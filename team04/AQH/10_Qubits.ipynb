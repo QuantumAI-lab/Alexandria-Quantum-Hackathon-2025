{
  "cells": [
    {
      "cell_type": "code",
      "execution_count": null,
      "metadata": {
        "colab": {
          "base_uri": "https://localhost:8080/"
        },
        "collapsed": true,
        "id": "3dZU-ZvTG8b3",
        "outputId": "51918706-9b45-4900-b8a9-4129409b17c7"
      },
      "outputs": [
        {
          "name": "stdout",
          "output_type": "stream",
          "text": [
            "Collecting qiskit==1.2.4\n",
            "  Downloading qiskit-1.2.4-cp38-abi3-manylinux_2_17_x86_64.manylinux2014_x86_64.whl.metadata (12 kB)\n",
            "Collecting qiskit-aer==0.15.1\n",
            "  Downloading qiskit_aer-0.15.1-cp312-cp312-manylinux_2_17_x86_64.manylinux2014_x86_64.whl.metadata (8.0 kB)\n",
            "Collecting qiskit-algorithms==0.3.0\n",
            "  Downloading qiskit_algorithms-0.3.0-py3-none-any.whl.metadata (4.2 kB)\n",
            "Collecting rustworkx>=0.15.0 (from qiskit==1.2.4)\n",
            "  Downloading rustworkx-0.17.1-cp39-abi3-manylinux_2_17_x86_64.manylinux2014_x86_64.whl.metadata (10 kB)\n",
            "Requirement already satisfied: numpy<3,>=1.17 in /usr/local/lib/python3.12/dist-packages (from qiskit==1.2.4) (2.0.2)\n",
            "Requirement already satisfied: scipy>=1.5 in /usr/local/lib/python3.12/dist-packages (from qiskit==1.2.4) (1.16.1)\n",
            "Requirement already satisfied: sympy>=1.3 in /usr/local/lib/python3.12/dist-packages (from qiskit==1.2.4) (1.13.3)\n",
            "Requirement already satisfied: dill>=0.3 in /usr/local/lib/python3.12/dist-packages (from qiskit==1.2.4) (0.3.8)\n",
            "Requirement already satisfied: python-dateutil>=2.8.0 in /usr/local/lib/python3.12/dist-packages (from qiskit==1.2.4) (2.9.0.post0)\n",
            "Collecting stevedore>=3.0.0 (from qiskit==1.2.4)\n",
            "  Downloading stevedore-5.5.0-py3-none-any.whl.metadata (2.2 kB)\n",
            "Requirement already satisfied: typing-extensions in /usr/local/lib/python3.12/dist-packages (from qiskit==1.2.4) (4.15.0)\n",
            "Collecting symengine<0.14,>=0.11 (from qiskit==1.2.4)\n",
            "  Downloading symengine-0.13.0-cp312-cp312-manylinux_2_17_x86_64.manylinux2014_x86_64.whl.metadata (1.2 kB)\n",
            "Requirement already satisfied: psutil>=5 in /usr/local/lib/python3.12/dist-packages (from qiskit-aer==0.15.1) (5.9.5)\n",
            "Requirement already satisfied: six>=1.5 in /usr/local/lib/python3.12/dist-packages (from python-dateutil>=2.8.0->qiskit==1.2.4) (1.17.0)\n",
            "Requirement already satisfied: mpmath<1.4,>=1.1.0 in /usr/local/lib/python3.12/dist-packages (from sympy>=1.3->qiskit==1.2.4) (1.3.0)\n",
            "Downloading qiskit-1.2.4-cp38-abi3-manylinux_2_17_x86_64.manylinux2014_x86_64.whl (4.8 MB)\n",
            "\u001b[2K   \u001b[90m━━━━━━━━━━━━━━━━━━━━━━━━━━━━━━━━━━━━━━━━\u001b[0m \u001b[32m4.8/4.8 MB\u001b[0m \u001b[31m67.4 MB/s\u001b[0m eta \u001b[36m0:00:00\u001b[0m\n",
            "\u001b[?25hDownloading qiskit_aer-0.15.1-cp312-cp312-manylinux_2_17_x86_64.manylinux2014_x86_64.whl (12.3 MB)\n",
            "\u001b[2K   \u001b[90m━━━━━━━━━━━━━━━━━━━━━━━━━━━━━━━━━━━━━━━━\u001b[0m \u001b[32m12.3/12.3 MB\u001b[0m \u001b[31m118.6 MB/s\u001b[0m eta \u001b[36m0:00:00\u001b[0m\n",
            "\u001b[?25hDownloading qiskit_algorithms-0.3.0-py3-none-any.whl (308 kB)\n",
            "\u001b[2K   \u001b[90m━━━━━━━━━━━━━━━━━━━━━━━━━━━━━━━━━━━━━━━━\u001b[0m \u001b[32m308.6/308.6 kB\u001b[0m \u001b[31m29.7 MB/s\u001b[0m eta \u001b[36m0:00:00\u001b[0m\n",
            "\u001b[?25hDownloading rustworkx-0.17.1-cp39-abi3-manylinux_2_17_x86_64.manylinux2014_x86_64.whl (2.2 MB)\n",
            "\u001b[2K   \u001b[90m━━━━━━━━━━━━━━━━━━━━━━━━━━━━━━━━━━━━━━━━\u001b[0m \u001b[32m2.2/2.2 MB\u001b[0m \u001b[31m100.0 MB/s\u001b[0m eta \u001b[36m0:00:00\u001b[0m\n",
            "\u001b[?25hDownloading stevedore-5.5.0-py3-none-any.whl (49 kB)\n",
            "\u001b[2K   \u001b[90m━━━━━━━━━━━━━━━━━━━━━━━━━━━━━━━━━━━━━━━━\u001b[0m \u001b[32m49.5/49.5 kB\u001b[0m \u001b[31m5.3 MB/s\u001b[0m eta \u001b[36m0:00:00\u001b[0m\n",
            "\u001b[?25hDownloading symengine-0.13.0-cp312-cp312-manylinux_2_17_x86_64.manylinux2014_x86_64.whl (49.6 MB)\n",
            "\u001b[2K   \u001b[90m━━━━━━━━━━━━━━━━━━━━━━━━━━━━━━━━━━━━━━━━\u001b[0m \u001b[32m49.6/49.6 MB\u001b[0m \u001b[31m18.1 MB/s\u001b[0m eta \u001b[36m0:00:00\u001b[0m\n",
            "\u001b[?25hInstalling collected packages: symengine, stevedore, rustworkx, qiskit, qiskit-algorithms, qiskit-aer\n",
            "Successfully installed qiskit-1.2.4 qiskit-aer-0.15.1 qiskit-algorithms-0.3.0 rustworkx-0.17.1 stevedore-5.5.0 symengine-0.13.0\n",
            "Collecting qiskit-optimization\n",
            "  Downloading qiskit_optimization-0.7.0-py3-none-any.whl.metadata (9.4 kB)\n",
            "Requirement already satisfied: qiskit<3,>=1.1 in /usr/local/lib/python3.12/dist-packages (from qiskit-optimization) (1.2.4)\n",
            "Requirement already satisfied: scipy>=1.9.0 in /usr/local/lib/python3.12/dist-packages (from qiskit-optimization) (1.16.1)\n",
            "Requirement already satisfied: numpy>=1.17 in /usr/local/lib/python3.12/dist-packages (from qiskit-optimization) (2.0.2)\n",
            "Collecting docplex!=2.24.231,>=2.21.207 (from qiskit-optimization)\n",
            "  Downloading docplex-2.30.251.tar.gz (646 kB)\n",
            "\u001b[2K     \u001b[90m━━━━━━━━━━━━━━━━━━━━━━━━━━━━━━━━━━━━━━\u001b[0m \u001b[32m646.5/646.5 kB\u001b[0m \u001b[31m13.9 MB/s\u001b[0m eta \u001b[36m0:00:00\u001b[0m\n",
            "\u001b[?25h  Installing build dependencies ... \u001b[?25l\u001b[?25hdone\n",
            "  Getting requirements to build wheel ... \u001b[?25l\u001b[?25hdone\n",
            "  Installing backend dependencies ... \u001b[?25l\u001b[?25hdone\n",
            "  Preparing metadata (pyproject.toml) ... \u001b[?25l\u001b[?25hdone\n",
            "Requirement already satisfied: setuptools>=40.1.0 in /usr/local/lib/python3.12/dist-packages (from qiskit-optimization) (75.2.0)\n",
            "Requirement already satisfied: networkx>=2.6.3 in /usr/local/lib/python3.12/dist-packages (from qiskit-optimization) (3.5)\n",
            "Requirement already satisfied: six in /usr/local/lib/python3.12/dist-packages (from docplex!=2.24.231,>=2.21.207->qiskit-optimization) (1.17.0)\n",
            "Requirement already satisfied: rustworkx>=0.15.0 in /usr/local/lib/python3.12/dist-packages (from qiskit<3,>=1.1->qiskit-optimization) (0.17.1)\n",
            "Requirement already satisfied: sympy>=1.3 in /usr/local/lib/python3.12/dist-packages (from qiskit<3,>=1.1->qiskit-optimization) (1.13.3)\n",
            "Requirement already satisfied: dill>=0.3 in /usr/local/lib/python3.12/dist-packages (from qiskit<3,>=1.1->qiskit-optimization) (0.3.8)\n",
            "Requirement already satisfied: python-dateutil>=2.8.0 in /usr/local/lib/python3.12/dist-packages (from qiskit<3,>=1.1->qiskit-optimization) (2.9.0.post0)\n",
            "Requirement already satisfied: stevedore>=3.0.0 in /usr/local/lib/python3.12/dist-packages (from qiskit<3,>=1.1->qiskit-optimization) (5.5.0)\n",
            "Requirement already satisfied: typing-extensions in /usr/local/lib/python3.12/dist-packages (from qiskit<3,>=1.1->qiskit-optimization) (4.15.0)\n",
            "Requirement already satisfied: symengine<0.14,>=0.11 in /usr/local/lib/python3.12/dist-packages (from qiskit<3,>=1.1->qiskit-optimization) (0.13.0)\n",
            "Requirement already satisfied: mpmath<1.4,>=1.1.0 in /usr/local/lib/python3.12/dist-packages (from sympy>=1.3->qiskit<3,>=1.1->qiskit-optimization) (1.3.0)\n",
            "Downloading qiskit_optimization-0.7.0-py3-none-any.whl (237 kB)\n",
            "\u001b[2K   \u001b[90m━━━━━━━━━━━━━━━━━━━━━━━━━━━━━━━━━━━━━━━━\u001b[0m \u001b[32m237.1/237.1 kB\u001b[0m \u001b[31m22.8 MB/s\u001b[0m eta \u001b[36m0:00:00\u001b[0m\n",
            "\u001b[?25hBuilding wheels for collected packages: docplex\n",
            "  Building wheel for docplex (pyproject.toml) ... \u001b[?25l\u001b[?25hdone\n",
            "  Created wheel for docplex: filename=docplex-2.30.251-py3-none-any.whl size=685954 sha256=545f8e32fa03d5bef6ead5b40c3e8ef1021c949f0a24fc3caf6cb392d7a6e187\n",
            "  Stored in directory: /root/.cache/pip/wheels/c1/d9/5c/1d919b1e441ebbaff244513a13d09c3c0378401601d4184bb0\n",
            "Successfully built docplex\n",
            "Installing collected packages: docplex, qiskit-optimization\n",
            "Successfully installed docplex-2.30.251 qiskit-optimization-0.7.0\n"
          ]
        }
      ],
      "source": [
        "!pip install \"qiskit==1.2.4\" \"qiskit-aer==0.15.1\" \"qiskit-algorithms==0.3.0\"\n",
        "\n",
        "!pip install qiskit-optimization\n",
        "\n"
      ]
    },
    {
      "cell_type": "markdown",
      "metadata": {
        "id": "FMxAO_JT-MUw"
      },
      "source": [
        "## Ideal simulator for 10 qubits"
      ]
    },
    {
      "cell_type": "code",
      "execution_count": null,
      "metadata": {
        "colab": {
          "base_uri": "https://localhost:8080/"
        },
        "id": "m5kRYUNfsLP1",
        "outputId": "d51f3014-f51a-4384-e738-332fc69be31a"
      },
      "outputs": [
        {
          "name": "stdout",
          "output_type": "stream",
          "text": [
            "Initializing QueueBo Smart Traffic Optimization System...\n",
            "QueueBo: Smart Traffic Optimization\n",
            "==================================================\n",
            "\n",
            "Cost Matrix (Hospital=0, Patients=1-5):\n",
            "[[ 0.    8.63 11.5   9.45 10.85  9.67]\n",
            " [14.19  0.    2.36 10.92  9.24  9.43]\n",
            " [17.78  7.75  0.   11.81 10.12 10.48]\n",
            " [11.86 19.67 15.66  0.   11.57 11.54]\n",
            " [ 7.34 12.17 10.05  4.07  0.    5.93]\n",
            " [ 9.27  9.4  12.27  7.32  8.72  0.  ]]\n",
            "\n",
            "1. CLASSICAL A* APPROACH:\n",
            "------------------------------\n",
            "Optimal route order: (1, 2, 3, 4, 5)\n",
            "Total cost: 57.3\n",
            "\n",
            "2. QUANTUM QAOA APPROACH (2-trip encoded):\n",
            "------------------------------\n"
          ]
        },
        {
          "name": "stderr",
          "output_type": "stream",
          "text": [
            "/tmp/ipython-input-3644152536.py:419: DeprecationWarning: Sampler has been deprecated as of Aer 0.15, please use SamplerV2 instead.\n",
            "  quantum_result = self.solve_quantum_qaoa(reps=2, maxiter=100)\n"
          ]
        },
        {
          "name": "stdout",
          "output_type": "stream",
          "text": [
            "QAOA reported energy (ising): -1860.540503  (+const -9842.760000 -> -11703.300503)\n",
            "Decoded quantum result:\n",
            "  Bitstring: 0010111010\n",
            "  Measured prob: 0.001953125\n",
            "  Trip 1 patients: [3, 5]  cost = 28.8500\n",
            "  Trip 2 patients: [1, 2, 4]  cost = 28.4500\n",
            "  Total two-trip cost: 57.3000\n",
            "  Valid measured sample (satisfies constraints): True\n"
          ]
        }
      ],
      "source": [
        "\n",
        "import numpy as np\n",
        "import heapq\n",
        "import itertools\n",
        "from qiskit import QuantumCircuit\n",
        "from qiskit_aer.primitives import Sampler       \n",
        "from qiskit_algorithms.minimum_eigensolvers import QAOA\n",
        "from qiskit_algorithms.optimizers import COBYLA\n",
        "from qiskit.quantum_info import SparsePauliOp\n",
        "\n",
        "# -------------------------\n",
        "# Postprocessing helpers\n",
        "# -------------------------\n",
        "def parse_state_key(key, n_qubits):\n",
        "    \"\"\"Turn a counts key into a binary string of length n_qubits.\"\"\"\n",
        "    if isinstance(key, int):\n",
        "        return format(key, f'0{n_qubits}b')\n",
        "    if isinstance(key, (tuple, list)):\n",
        "        return ''.join(str(int(x)) for x in key)\n",
        "    s = str(key)\n",
        "    if s.startswith('0b'):\n",
        "        s = s[2:]\n",
        "    s = ''.join(ch for ch in s if ch in '01')\n",
        "    if len(s) == n_qubits:\n",
        "        return s\n",
        "    return s.zfill(n_qubits)[-n_qubits:]\n",
        "\n",
        "\n",
        "def route_min_cost(trip, cost_matrix):\n",
        "    \"\"\"Return minimal round-trip cost for a set of patients (patient indices are 1..n).\"\"\"\n",
        "    if not trip:\n",
        "        return 0.0\n",
        "    best = float('inf')\n",
        "    for perm in itertools.permutations(trip):\n",
        "        c = cost_matrix[0, perm[0]]\n",
        "        for a, b in zip(perm[:-1], perm[1:]):\n",
        "            c += cost_matrix[a, b]\n",
        "        c += cost_matrix[perm[-1], 0]\n",
        "        if c < best:\n",
        "            best = c\n",
        "    return best\n",
        "\n",
        "\n",
        "def check_constraints_and_decode(bitstr: str, n_patients: int, max_stops: int):\n",
        "    \"\"\"\n",
        "    Given binary string length 2*n_patients:\n",
        "      bits 0..n-1 -> trip1 flags for patient1..n\n",
        "      bits n..2n-1 -> trip2 flags for patient1..n\n",
        "    Return (valid, trip1_list, trip2_list).\n",
        "    \"\"\"\n",
        "    n_qubits = 2 * n_patients\n",
        "    assert len(bitstr) == n_qubits\n",
        "    trip1 = []\n",
        "    trip2 = []\n",
        "    valid = True\n",
        "    for i in range(n_patients):\n",
        "        b1 = int(bitstr[i])\n",
        "        b2 = int(bitstr[i + n_patients])\n",
        "        s = b1 + b2\n",
        "        if s != 1:\n",
        "            valid = False\n",
        "        if b1:\n",
        "            trip1.append(i + 1)\n",
        "        if b2:\n",
        "            trip2.append(i + 1)\n",
        "    if len(trip1) > max_stops or len(trip2) > max_stops:\n",
        "        valid = False\n",
        "    return valid, trip1, trip2\n",
        "\n",
        "\n",
        "def repair_assignment(bitstr: str, n_patients: int, max_stops: int, cost_matrix: np.ndarray):\n",
        "    \"\"\"\n",
        "    Greedy repair:\n",
        "    - Ensure each patient assigned to exactly one trip\n",
        "    - Respect capacity by moving extras to the other trip (choose smallest cost increase)\n",
        "    \"\"\"\n",
        "    bits = [int(b) for b in bitstr]\n",
        "    # ensure one-hot per patient\n",
        "    for i in range(n_patients):\n",
        "        b1 = bits[i]\n",
        "        b2 = bits[i + n_patients]\n",
        "        if b1 + b2 == 0:\n",
        "            # assign to the trip with smaller solo cost (rough heuristic)\n",
        "            cost1 = cost_matrix[0, i + 1] + cost_matrix[i + 1, 0]\n",
        "            # default assign to trip1 if tie\n",
        "            bits[i] = 1\n",
        "            bits[i + n_patients] = 0\n",
        "        elif b1 + b2 == 2:\n",
        "            # keep in trip1 as default\n",
        "            bits[i] = 1\n",
        "            bits[i + n_patients] = 0\n",
        "\n",
        "    def current_trips(bits_arr):\n",
        "        t1 = [i + 1 for i in range(n_patients) if bits_arr[i] == 1]\n",
        "        t2 = [i + 1 for i in range(n_patients) if bits_arr[i + n_patients] == 1]\n",
        "        return t1, t2\n",
        "\n",
        "    t1, t2 = current_trips(bits)\n",
        "\n",
        "    # fix capacity by moving minimal-impact patients\n",
        "    while len(t1) > max_stops:\n",
        "        best_move = None\n",
        "        best_delta = float('inf')\n",
        "        for p in t1:\n",
        "            new_t1 = [x for x in t1 if x != p]\n",
        "            new_t2 = t2 + [p]\n",
        "            delta = route_min_cost(new_t1, cost_matrix) + route_min_cost(new_t2, cost_matrix) - (route_min_cost(t1, cost_matrix) + route_min_cost(t2, cost_matrix))\n",
        "            if delta < best_delta:\n",
        "                best_delta = delta\n",
        "                best_move = p\n",
        "        bits[best_move - 1] = 0\n",
        "        bits[best_move - 1 + n_patients] = 1\n",
        "        t1, t2 = current_trips(bits)\n",
        "\n",
        "    while len(t2) > max_stops:\n",
        "        best_move = None\n",
        "        best_delta = float('inf')\n",
        "        for p in t2:\n",
        "            new_t2 = [x for x in t2 if x != p]\n",
        "            new_t1 = t1 + [p]\n",
        "            delta = route_min_cost(new_t1, cost_matrix) + route_min_cost(new_t2, cost_matrix) - (route_min_cost(t1, cost_matrix) + route_min_cost(t2, cost_matrix))\n",
        "            if delta < best_delta:\n",
        "                best_delta = delta\n",
        "                best_move = p\n",
        "        bits[best_move - 1 + n_patients] = 0\n",
        "        bits[best_move - 1] = 1\n",
        "        t1, t2 = current_trips(bits)\n",
        "\n",
        "    trip1 = [i + 1 for i in range(n_patients) if bits[i] == 1]\n",
        "    trip2 = [i + 1 for i in range(n_patients) if bits[i + n_patients] == 1]\n",
        "    return trip1, trip2\n",
        "\n",
        "\n",
        "def postprocess_qaoa_counts(counts, cost_matrix, n_patients, max_stops=3, top_k=500):\n",
        "    \"\"\"\n",
        "    counts: quasi_dists dict from sampler.run(...).result().quasi_dists[0]\n",
        "    Returns best valid assignment (or repaired top sample) with exact route costs.\n",
        "    \"\"\"\n",
        "    n_qubits = 2 * n_patients\n",
        "    candidates = []\n",
        "    for key, prob in counts.items():\n",
        "        s = parse_state_key(key, n_qubits)\n",
        "        if len(s) != n_qubits:\n",
        "            continue\n",
        "        candidates.append((s, float(prob)))\n",
        "        candidates.append((s[::-1], float(prob)))  # try reversed endianness\n",
        "\n",
        "    candidates_sorted = sorted(candidates, key=lambda x: -x[1])\n",
        "\n",
        "    best_valid = None\n",
        "    best_valid_total_cost = float('inf')\n",
        "    visited = set()\n",
        "    for s, prob in candidates_sorted[:top_k]:\n",
        "        if s in visited:\n",
        "            continue\n",
        "        visited.add(s)\n",
        "        valid, trip1, trip2 = check_constraints_and_decode(s, n_patients, max_stops)\n",
        "        if not valid:\n",
        "            continue\n",
        "        cost1 = route_min_cost(trip1, cost_matrix)\n",
        "        cost2 = route_min_cost(trip2, cost_matrix)\n",
        "        total = cost1 + cost2\n",
        "        if total < best_valid_total_cost:\n",
        "            best_valid_total_cost = total\n",
        "            best_valid = {\n",
        "                \"bitstring\": s,\n",
        "                \"prob\": prob,\n",
        "                \"trip1\": trip1,\n",
        "                \"trip2\": trip2,\n",
        "                \"trip1_cost\": cost1,\n",
        "                \"trip2_cost\": cost2,\n",
        "                \"total_cost\": total,\n",
        "                \"valid\": True\n",
        "            }\n",
        "\n",
        "    if best_valid is not None:\n",
        "        return best_valid\n",
        "\n",
        "    # no valid sample found -> repair top sample\n",
        "    if not candidates_sorted:\n",
        "        raise ValueError(\"No measured samples available.\")\n",
        "    top_s = candidates_sorted[0][0]\n",
        "    repaired_t1, repaired_t2 = repair_assignment(top_s, n_patients, max_stops, cost_matrix)\n",
        "    cost1 = route_min_cost(repaired_t1, cost_matrix)\n",
        "    cost2 = route_min_cost(repaired_t2, cost_matrix)\n",
        "    total = cost1 + cost2\n",
        "    return {\n",
        "        \"bitstring\": top_s,\n",
        "        \"prob\": candidates_sorted[0][1],\n",
        "        \"trip1\": repaired_t1,\n",
        "        \"trip2\": repaired_t2,\n",
        "        \"trip1_cost\": cost1,\n",
        "        \"trip2_cost\": cost2,\n",
        "        \"total_cost\": total,\n",
        "        \"valid\": False,\n",
        "        \"note\": \"repaired from top sample\"\n",
        "    }\n",
        "\n",
        "\n",
        "# -------------------------\n",
        "# QueueBo optimizer class\n",
        "# -------------------------\n",
        "class QueueBoOptimizer:\n",
        "    def __init__(self, cost_matrix):\n",
        "        self.cost_matrix = np.array(cost_matrix)\n",
        "        self.n_patients = len(cost_matrix) - 1\n",
        "        self.hospital = 0\n",
        "\n",
        "    def create_sample_cost_matrix(self):\n",
        "        return self.cost_matrix\n",
        "\n",
        "    def a_star_classical(self):\n",
        "        \"\"\"Classical A* search with max 3 patients per trip (same as before).\"\"\"\n",
        "        def heuristic(remaining_patients, current_pos):\n",
        "            if not remaining_patients:\n",
        "                return self.cost_matrix[current_pos][self.hospital]\n",
        "            total = 0\n",
        "            for patient in remaining_patients:\n",
        "                total += min(self.cost_matrix[patient][self.hospital],\n",
        "                             min([self.cost_matrix[patient][p] for p in remaining_patients if p != patient] + [float('inf')]))\n",
        "            return total + self.cost_matrix[current_pos][self.hospital]\n",
        "\n",
        "        start_state = (self.hospital, tuple(), tuple(), 0)\n",
        "        open_set = [(0, 0, start_state)]\n",
        "        closed_set = set()\n",
        "        best_solution, best_cost = None, float('inf')\n",
        "\n",
        "        while open_set:\n",
        "            f_score, g_score, state = heapq.heappop(open_set)\n",
        "            current_pos, visited, current_trip, total_cost = state\n",
        "            state_key = (current_pos, visited, current_trip)\n",
        "            if state_key in closed_set:\n",
        "                continue\n",
        "            closed_set.add(state_key)\n",
        "\n",
        "            if len(visited) == self.n_patients:\n",
        "                final_cost = total_cost + self.cost_matrix[current_pos][self.hospital]\n",
        "                if final_cost < best_cost:\n",
        "                    best_cost, best_solution = final_cost, (visited, final_cost)\n",
        "                continue\n",
        "\n",
        "            remaining = [i for i in range(1, self.n_patients + 1) if i not in visited]\n",
        "\n",
        "            if len(current_trip) < 3 and remaining:\n",
        "                for next_patient in remaining:\n",
        "                    new_cost = total_cost + self.cost_matrix[current_pos][next_patient]\n",
        "                    new_visited = tuple(sorted(list(visited) + [next_patient]))\n",
        "                    new_trip = tuple(sorted(list(current_trip) + [next_patient]))\n",
        "                    new_state = (next_patient, new_visited, new_trip, new_cost)\n",
        "                    h_score = heuristic([p for p in range(1, self.n_patients + 1) if p not in new_visited], next_patient)\n",
        "                    f_score = new_cost + h_score\n",
        "                    heapq.heappush(open_set, (f_score, new_cost, new_state))\n",
        "\n",
        "            if current_trip and remaining:\n",
        "                return_cost = total_cost + self.cost_matrix[current_pos][self.hospital]\n",
        "                new_state = (self.hospital, visited, tuple(), return_cost)\n",
        "                h_score = heuristic(remaining, self.hospital)\n",
        "                f_score = return_cost + h_score\n",
        "                heapq.heappush(open_set, (f_score, return_cost, new_state))\n",
        "\n",
        "        return best_solution\n",
        "\n",
        "    # ---------- QUBO building ----------\n",
        "    def build_qubo_two_trips(self, P_assign=1000.0, P_cap=500.0):\n",
        "        \"\"\"\n",
        "        Build QUBO matrix for:\n",
        "          x_i = patient i in trip1 (i=0..n-1)\n",
        "          y_i = patient i in trip2 (i=n..2n-1)\n",
        "        Penalties use algebra: (x+y-1)^2 * P_assign  and (sum_trip - K)^2 * P_cap\n",
        "        Objective uses hospital linear costs + pairwise inter-patient costs.\n",
        "        \"\"\"\n",
        "        n = self.n_patients\n",
        "        N = 2 * n\n",
        "        Q = np.zeros((N, N))\n",
        "\n",
        "        # 1) assignment constraints: (x_i + y_i - 1)^2 * P_assign\n",
        "        # Expand: P*(1 + 2 x y - x - y) -> linear: -P for x and y; quadratic: 2P for x*y; const: P\n",
        "        for i in range(n):\n",
        "            Q[i, i] += -P_assign        # x_i linear\n",
        "            Q[i + n, i + n] += -P_assign  # y_i linear\n",
        "            Q[i, i + n] += 2.0 * P_assign  # x_i * y_i coefficient\n",
        "\n",
        "        # 2) capacity constraints for each trip: (sum - K)^2 * P_cap\n",
        "        K = 3\n",
        "        for trip_offset in [0, n]:\n",
        "            # linear terms from s^2 (sum of x_i) give +1 per x_i, and -2K from -2K*s -> combined: (1 - 2K)\n",
        "            lin_coef = (1.0 - 2.0 * K) * P_cap\n",
        "            for i in range(n):\n",
        "                Q[trip_offset + i, trip_offset + i] += lin_coef\n",
        "            # quadratic pairwise terms: 2 * P_cap for each pair i<j\n",
        "            for i in range(n):\n",
        "                for j in range(i + 1, n):\n",
        "                    Q[trip_offset + i, trip_offset + j] += 2.0 * P_cap\n",
        "\n",
        "        # 3) Objective approximations:\n",
        "        # 3a) hospital in/out linear costs (penalize selecting patient)\n",
        "        for i in range(n):\n",
        "            hcost = self.cost_matrix[0, i + 1] + self.cost_matrix[i + 1, 0]\n",
        "            Q[i, i] += hcost\n",
        "            Q[n + i, n + i] += hcost\n",
        "\n",
        "        # 3b) pairwise inter-patient costs added when both patients in same trip\n",
        "        for i in range(n):\n",
        "            for j in range(i + 1, n):\n",
        "                pair_cost = self.cost_matrix[i + 1, j + 1]\n",
        "                Q[i, j] += pair_cost\n",
        "                Q[n + i, n + j] += pair_cost\n",
        "\n",
        "        return Q\n",
        "\n",
        "    def qubo_to_ising(self, Q):\n",
        "        \"\"\"\n",
        "        Convert QUBO Q (N x N with energy E = sum_i Q[i,i]*x_i + sum_{i<j} Q[i,j]*x_i*x_j)\n",
        "        to Ising form H = sum_i h_i * Z_i + sum_{i<j} J_ij * Z_i Z_j + const\n",
        "        using x = (1 - z)/2 mapping.\n",
        "        \"\"\"\n",
        "        N = Q.shape[0]\n",
        "        a = np.diag(Q).copy()  # linear QUBO a_i\n",
        "        b = np.triu(Q, k=1).copy()  # upper triangle b_ij\n",
        "\n",
        "        # constant term: sum_i a_i/2 + sum_{i<j} b_ij/4\n",
        "        const = 0.5 * np.sum(a) + 0.25 * np.sum(b)\n",
        "\n",
        "        # h_i = -a_i/2 - sum_{j != i} b_ij / 4\n",
        "        h = np.zeros(N)\n",
        "        for i in range(N):\n",
        "            sum_b = np.sum(Q[i, :]) - Q[i, i]  # sum over j != i of Q[i,j]\n",
        "            h[i] = -0.5 * a[i] - 0.25 * sum_b\n",
        "\n",
        "        # J_ij = b_ij / 4 for i<j\n",
        "        pauli_list = []\n",
        "        coeffs = []\n",
        "        # linear Z terms\n",
        "        for i in range(N):\n",
        "            if abs(h[i]) > 0:\n",
        "                pa = ['I'] * N\n",
        "                pa[i] = 'Z'\n",
        "                pauli_list.append(''.join(pa))\n",
        "                coeffs.append(h[i])\n",
        "        # quadratic ZZ terms\n",
        "        for i in range(N):\n",
        "            for j in range(i + 1, N):\n",
        "                if abs(Q[i, j]) > 1e-12:\n",
        "                    J = 0.25 * Q[i, j]\n",
        "                    pa = ['I'] * N\n",
        "                    pa[i] = 'Z'\n",
        "                    pa[j] = 'Z'\n",
        "                    pauli_list.append(''.join(pa))\n",
        "                    coeffs.append(J)\n",
        "\n",
        "        sparse = SparsePauliOp.from_list(list(zip(pauli_list, coeffs)))\n",
        "        return sparse, const\n",
        "\n",
        "    def solve_quantum_qaoa(self, reps=2, maxiter=100):\n",
        "        \"\"\"Full QAOA flow with postprocessing to exact route costs.\"\"\"\n",
        "        Q = self.build_qubo_two_trips(P_assign=1000.0, P_cap=500.0)\n",
        "        hamiltonian, constant = self.qubo_to_ising(Q)\n",
        "\n",
        "        optimizer = COBYLA(maxiter=maxiter)\n",
        "        sampler = Sampler()   # using Aer sampler (deprecated warning may appear)\n",
        "        qaoa = QAOA(sampler=sampler, optimizer=optimizer, reps=reps)\n",
        "\n",
        "        # Run QAOA -> result has optimal parameters / eigenstate info\n",
        "        result = qaoa.compute_minimum_eigenvalue(operator=hamiltonian)\n",
        "        optimal_value = result.optimal_value + constant\n",
        "        print(f\"QAOA reported energy (ising): {result.optimal_value:.6f}  (+const {constant:.6f} -> {optimal_value:.6f})\")\n",
        "\n",
        "        # Build the ansatz circuit with found parameters and sample it\n",
        "        try:\n",
        "            qc = qaoa.ansatz.assign_parameters(result.optimal_parameters)\n",
        "        except Exception:\n",
        "            \n",
        "            qc = qaoa.ansatz.bind_parameters(result.optimal_parameters)\n",
        "\n",
        "        # Run sampler to get measurement distribution\n",
        "        job = sampler.run([qc])\n",
        "        qc_counts = job.result().quasi_dists[0]  \n",
        "        # qc_counts may be dict mapping int/bitstring/tuple -> probability\n",
        "\n",
        "        # Postprocess counts to find valid assignment and exact route costs\n",
        "        res = postprocess_qaoa_counts(qc_counts, self.cost_matrix, self.n_patients, max_stops=3)\n",
        "\n",
        "        \n",
        "        print(\"Decoded quantum result:\")\n",
        "        print(\"  Bitstring:\", res[\"bitstring\"])\n",
        "        print(\"  Measured prob:\", res[\"prob\"])\n",
        "        print(f\"  Trip 1 patients: {res['trip1']}  cost = {res['trip1_cost']:.4f}\")\n",
        "        print(f\"  Trip 2 patients: {res['trip2']}  cost = {res['trip2_cost']:.4f}\")\n",
        "        print(f\"  Total two-trip cost: {res['total_cost']:.4f}\")\n",
        "        print(\"  Valid measured sample (satisfies constraints):\", res.get(\"valid\", False))\n",
        "        if not res.get(\"valid\", True):\n",
        "            print(\"  Note:\", res.get(\"note\"))\n",
        "\n",
        "        return {\n",
        "            \"success\": True,\n",
        "            \"quantum_energy\": float(result.optimal_value),\n",
        "            \"quantum_energy_with_const\": float(optimal_value),\n",
        "            \"decoded\": res\n",
        "        }\n",
        "\n",
        "    def solve_and_compare(self):\n",
        "        print(\"QueueBo: Smart Traffic Optimization\")\n",
        "        print(\"=\" * 50)\n",
        "        print(\"\\nCost Matrix (Hospital=0, Patients=1-5):\")\n",
        "        print(self.cost_matrix)\n",
        "\n",
        "        print(\"\\n1. CLASSICAL A* APPROACH:\")\n",
        "        print(\"-\" * 30)\n",
        "        classical_result = self.a_star_classical()\n",
        "        if classical_result:\n",
        "            visited_order, total_cost = classical_result\n",
        "            print(f\"Optimal route order: {visited_order}\")\n",
        "            print(f\"Total cost: {total_cost}\")\n",
        "        else:\n",
        "            print(\"No solution found with classical approach\")\n",
        "\n",
        "        print(\"\\n2. QUANTUM QAOA APPROACH (2-trip encoded):\")\n",
        "        print(\"-\" * 30)\n",
        "        quantum_result = self.solve_quantum_qaoa(reps=2, maxiter=100)\n",
        "        return {\"classical\": classical_result, \"quantum\": quantum_result}\n",
        "\n",
        "\n",
        "# -------------------------\n",
        "# Run demo\n",
        "# -------------------------\n",
        "if __name__ == \"__main__\":\n",
        "    print(\"Initializing QueueBo Smart Traffic Optimization System...\")\n",
        "    cost_matrix = np.array([\n",
        "        [0.0, 8.63, 11.5, 9.45, 10.85, 9.67],\n",
        "        [14.19, 0.0, 2.36, 10.92, 9.24, 9.43],\n",
        "        [17.78, 7.75, 0.0, 11.81, 10.12, 10.48],\n",
        "        [11.86, 19.67, 15.66, 0.0, 11.57, 11.54],\n",
        "        [7.34, 12.17, 10.05, 4.07, 0.0, 5.93],\n",
        "        [9.27, 9.4, 12.27, 7.32, 8.72, 0.0]\n",
        "    ])\n",
        "    optimizer = QueueBoOptimizer(cost_matrix)\n",
        "    _ = optimizer.solve_and_compare()\n"
      ]
    },
    {
      "cell_type": "markdown",
      "metadata": {
        "id": "cRae9yi3Cr8J"
      },
      "source": [
        "# Ideal Simulation for 100 itration"
      ]
    },
    {
      "cell_type": "code",
      "execution_count": null,
      "metadata": {
        "colab": {
          "base_uri": "https://localhost:8080/",
          "height": 1000
        },
        "id": "HqR1_kKZBWu8",
        "outputId": "c0ed4499-f9ba-4d01-a44a-7a25f1864dc0"
      },
      "outputs": [
        {
          "name": "stdout",
          "output_type": "stream",
          "text": [
            "Initializing QueueBo Smart Traffic Optimization System...\n",
            "QueueBo: Smart Traffic Optimization\n",
            "==================================================\n",
            "\n",
            "Cost Matrix (Hospital=0, Patients=1-5):\n",
            "[[ 0.    8.63 11.5   9.45 10.85  9.67]\n",
            " [14.19  0.    2.36 10.92  9.24  9.43]\n",
            " [17.78  7.75  0.   11.81 10.12 10.48]\n",
            " [11.86 19.67 15.66  0.   11.57 11.54]\n",
            " [ 7.34 12.17 10.05  4.07  0.    5.93]\n",
            " [ 9.27  9.4  12.27  7.32  8.72  0.  ]]\n",
            "\n",
            "1. CLASSICAL A* APPROACH:\n",
            "------------------------------\n",
            "Optimal route order: (1, 2, 3, 4, 5)\n",
            "Total cost: 57.3\n",
            "\n",
            "2. QUANTUM QAOA APPROACH (2-trip encoded, sampling):\n",
            "------------------------------\n"
          ]
        },
        {
          "name": "stderr",
          "output_type": "stream",
          "text": [
            "/tmp/ipython-input-1197530130.py:454: DeprecationWarning: Sampler has been deprecated as of Aer 0.15, please use SamplerV2 instead.\n",
            "  quantum_result = self.solve_quantum_qaoa(reps=2, maxiter=300, n_samples=n_samples)\n"
          ]
        },
        {
          "name": "stdout",
          "output_type": "stream",
          "text": [
            "QAOA reported energy (ising): -497.453252  (+const -9842.760000 -> -10340.213252)\n",
            "\n",
            "Top observed total-costs (km) and frequencies:\n",
            "  57.300 km  -  48 occurrences\n",
            "  63.090 km  -  17 occurrences\n",
            "  57.520 km  -  15 occurrences\n",
            "  68.240 km  -  5 occurrences\n",
            "  66.370 km  -  3 occurrences\n",
            "  64.880 km  -  3 occurrences\n",
            "  66.200 km  -  3 occurrences\n",
            "  68.230 km  -  2 occurrences\n",
            "  65.050 km  -  2 occurrences\n",
            "  60.390 km  -  2 occurrences\n"
          ]
        },
        {
          "data": {
            "image/png": "[encoded data removed]",
            "text/plain": [
              "<Figure size 2000x1000 with 1 Axes>"
            ]
          },
          "metadata": {},
          "output_type": "display_data"
        }
      ],
      "source": [
        "\n",
        "import numpy as np\n",
        "import heapq\n",
        "import itertools\n",
        "import matplotlib.pyplot as plt\n",
        "from qiskit import QuantumCircuit\n",
        "from qiskit_aer.primitives import Sampler         \n",
        "from qiskit_algorithms.minimum_eigensolvers import QAOA\n",
        "from qiskit_algorithms.optimizers import COBYLA\n",
        "from qiskit.quantum_info import SparsePauliOp\n",
        "\n",
        "# -------------------------\n",
        "# Postprocessing helpers (unchanged, with small util for decoding single sample)\n",
        "# -------------------------\n",
        "def parse_state_key(key, n_qubits):\n",
        "    \"\"\"Turn a counts key into a binary string of length n_qubits.\"\"\"\n",
        "    if isinstance(key, int):\n",
        "        return format(key, f'0{n_qubits}b')\n",
        "    if isinstance(key, (tuple, list)):\n",
        "        return ''.join(str(int(x)) for x in key)\n",
        "    s = str(key)\n",
        "    if s.startswith('0b'):\n",
        "        s = s[2:]\n",
        "    s = ''.join(ch for ch in s if ch in '01')\n",
        "    if len(s) == n_qubits:\n",
        "        return s\n",
        "    return s.zfill(n_qubits)[-n_qubits:]\n",
        "\n",
        "\n",
        "def route_min_cost(trip, cost_matrix):\n",
        "    \"\"\"Return minimal round-trip cost for a set of patients (patient indices are 1..n).\"\"\"\n",
        "    if not trip:\n",
        "        return 0.0\n",
        "    best = float('inf')\n",
        "    for perm in itertools.permutations(trip):\n",
        "        c = cost_matrix[0, perm[0]]\n",
        "        for a, b in zip(perm[:-1], perm[1:]):\n",
        "            c += cost_matrix[a, b]\n",
        "        c += cost_matrix[perm[-1], 0]\n",
        "        if c < best:\n",
        "            best = c\n",
        "    return best\n",
        "\n",
        "\n",
        "def check_constraints_and_decode(bitstr: str, n_patients: int, max_stops: int):\n",
        "    \"\"\"\n",
        "    Given binary string length 2*n_patients:\n",
        "      bits 0..n-1 -> trip1 flags for patient1..n\n",
        "      bits n..2n-1 -> trip2 flags for patient1..n\n",
        "    Return (valid, trip1_list, trip2_list).\n",
        "    \"\"\"\n",
        "    n_qubits = 2 * n_patients\n",
        "    assert len(bitstr) == n_qubits\n",
        "    trip1 = []\n",
        "    trip2 = []\n",
        "    valid = True\n",
        "    for i in range(n_patients):\n",
        "        b1 = int(bitstr[i])\n",
        "        b2 = int(bitstr[i + n_patients])\n",
        "        s = b1 + b2\n",
        "        if s != 1:\n",
        "            valid = False\n",
        "        if b1:\n",
        "            trip1.append(i + 1)\n",
        "        if b2:\n",
        "            trip2.append(i + 1)\n",
        "    if len(trip1) > max_stops or len(trip2) > max_stops:\n",
        "        valid = False\n",
        "    return valid, trip1, trip2\n",
        "\n",
        "\n",
        "def repair_assignment(bitstr: str, n_patients: int, max_stops: int, cost_matrix: np.ndarray):\n",
        "    \"\"\"\n",
        "    Greedy repair:\n",
        "    - Ensure each patient assigned to exactly one trip\n",
        "    - Respect capacity by moving extras to the other trip (choose smallest cost increase)\n",
        "    \"\"\"\n",
        "    bits = [int(b) for b in bitstr]\n",
        "    # ensure one-hot per patient\n",
        "    for i in range(n_patients):\n",
        "        b1 = bits[i]\n",
        "        b2 = bits[i + n_patients]\n",
        "        if b1 + b2 == 0:\n",
        "            # assign to the trip with smaller solo cost (rough heuristic)\n",
        "            # default assign to trip1 if tie\n",
        "            bits[i] = 1\n",
        "            bits[i + n_patients] = 0\n",
        "        elif b1 + b2 == 2:\n",
        "            # keep in trip1 as default\n",
        "            bits[i] = 1\n",
        "            bits[i + n_patients] = 0\n",
        "\n",
        "    def current_trips(bits_arr):\n",
        "        t1 = [i + 1 for i in range(n_patients) if bits_arr[i] == 1]\n",
        "        t2 = [i + 1 for i in range(n_patients) if bits_arr[i + n_patients] == 1]\n",
        "        return t1, t2\n",
        "\n",
        "    t1, t2 = current_trips(bits)\n",
        "\n",
        "    # fix capacity by moving minimal-impact patients\n",
        "    while len(t1) > max_stops:\n",
        "        best_move = None\n",
        "        best_delta = float('inf')\n",
        "        for p in t1:\n",
        "            new_t1 = [x for x in t1 if x != p]\n",
        "            new_t2 = t2 + [p]\n",
        "            delta = route_min_cost(new_t1, cost_matrix) + route_min_cost(new_t2, cost_matrix) - (route_min_cost(t1, cost_matrix) + route_min_cost(t2, cost_matrix))\n",
        "            if delta < best_delta:\n",
        "                best_delta = delta\n",
        "                best_move = p\n",
        "        bits[best_move - 1] = 0\n",
        "        bits[best_move - 1 + n_patients] = 1\n",
        "        t1, t2 = current_trips(bits)\n",
        "\n",
        "    while len(t2) > max_stops:\n",
        "        best_move = None\n",
        "        best_delta = float('inf')\n",
        "        for p in t2:\n",
        "            new_t2 = [x for x in t2 if x != p]\n",
        "            new_t1 = t1 + [p]\n",
        "            delta = route_min_cost(new_t1, cost_matrix) + route_min_cost(new_t2, cost_matrix) - (route_min_cost(t1, cost_matrix) + route_min_cost(t2, cost_matrix))\n",
        "            if delta < best_delta:\n",
        "                best_delta = delta\n",
        "                best_move = p\n",
        "        bits[best_move - 1 + n_patients] = 0\n",
        "        bits[best_move - 1] = 1\n",
        "        t1, t2 = current_trips(bits)\n",
        "\n",
        "    trip1 = [i + 1 for i in range(n_patients) if bits[i] == 1]\n",
        "    trip2 = [i + 1 for i in range(n_patients) if bits[i + n_patients] == 1]\n",
        "    return trip1, trip2\n",
        "\n",
        "\n",
        "def postprocess_qaoa_counts(counts, cost_matrix, n_patients, max_stops=3, top_k=500):\n",
        "    \"\"\"\n",
        "    counts: quasi_dists dict from sampler.run(...).result().quasi_dists[0]\n",
        "    Returns best valid assignment (or repaired top sample) with exact route costs.\n",
        "    \"\"\"\n",
        "    n_qubits = 2 * n_patients\n",
        "    candidates = []\n",
        "    for key, prob in counts.items():\n",
        "        s = parse_state_key(key, n_qubits)\n",
        "        if len(s) != n_qubits:\n",
        "            continue\n",
        "        candidates.append((s, float(prob)))\n",
        "        candidates.append((s[::-1], float(prob)))  # try reversed endianness\n",
        "\n",
        "    candidates_sorted = sorted(candidates, key=lambda x: -x[1])\n",
        "\n",
        "    best_valid = None\n",
        "    best_valid_total_cost = float('inf')\n",
        "    visited = set()\n",
        "    for s, prob in candidates_sorted[:top_k]:\n",
        "        if s in visited:\n",
        "            continue\n",
        "        visited.add(s)\n",
        "        valid, trip1, trip2 = check_constraints_and_decode(s, n_patients, max_stops)\n",
        "        if not valid:\n",
        "            continue\n",
        "        cost1 = route_min_cost(trip1, cost_matrix)\n",
        "        cost2 = route_min_cost(trip2, cost_matrix)\n",
        "        total = cost1 + cost2\n",
        "        if total < best_valid_total_cost:\n",
        "            best_valid_total_cost = total\n",
        "            best_valid = {\n",
        "                \"bitstring\": s,\n",
        "                \"prob\": prob,\n",
        "                \"trip1\": trip1,\n",
        "                \"trip2\": trip2,\n",
        "                \"trip1_cost\": cost1,\n",
        "                \"trip2_cost\": cost2,\n",
        "                \"total_cost\": total,\n",
        "                \"valid\": True\n",
        "            }\n",
        "\n",
        "    if best_valid is not None:\n",
        "        return best_valid\n",
        "\n",
        "    # no valid sample found -> repair top sample\n",
        "    if not candidates_sorted:\n",
        "        raise ValueError(\"No measured samples available.\")\n",
        "    top_s = candidates_sorted[0][0]\n",
        "    repaired_t1, repaired_t2 = repair_assignment(top_s, n_patients, max_stops, cost_matrix)\n",
        "    cost1 = route_min_cost(repaired_t1, cost_matrix)\n",
        "    cost2 = route_min_cost(repaired_t2, cost_matrix)\n",
        "    total = cost1 + cost2\n",
        "    return {\n",
        "        \"bitstring\": top_s,\n",
        "        \"prob\": candidates_sorted[0][1],\n",
        "        \"trip1\": repaired_t1,\n",
        "        \"trip2\": repaired_t2,\n",
        "        \"trip1_cost\": cost1,\n",
        "        \"trip2_cost\": cost2,\n",
        "        \"total_cost\": total,\n",
        "        \"valid\": False,\n",
        "        \"note\": \"repaired from top sample\"\n",
        "    }\n",
        "\n",
        "\n",
        "# -------------------------\n",
        "# QueueBo optimizer class (modified to aggregate samples and plot histogram)\n",
        "# -------------------------\n",
        "class QueueBoOptimizer:\n",
        "    def __init__(self, cost_matrix):\n",
        "        self.cost_matrix = np.array(cost_matrix)\n",
        "        self.n_patients = len(cost_matrix) - 1\n",
        "        self.hospital = 0\n",
        "\n",
        "    def create_sample_cost_matrix(self):\n",
        "        return self.cost_matrix\n",
        "\n",
        "    # (a_star_classical and build_qubo_two_trips, qubo_to_ising remain unchanged)\n",
        "    def a_star_classical(self):\n",
        "        def heuristic(remaining_patients, current_pos):\n",
        "            if not remaining_patients:\n",
        "                return self.cost_matrix[current_pos][self.hospital]\n",
        "            total = 0\n",
        "            for patient in remaining_patients:\n",
        "                total += min(self.cost_matrix[patient][self.hospital],\n",
        "                             min([self.cost_matrix[patient][p] for p in remaining_patients if p != patient] + [float('inf')]))\n",
        "            return total + self.cost_matrix[current_pos][self.hospital]\n",
        "\n",
        "        start_state = (self.hospital, tuple(), tuple(), 0)\n",
        "        open_set = [(0, 0, start_state)]\n",
        "        closed_set = set()\n",
        "        best_solution, best_cost = None, float('inf')\n",
        "\n",
        "        while open_set:\n",
        "            f_score, g_score, state = heapq.heappop(open_set)\n",
        "            current_pos, visited, current_trip, total_cost = state\n",
        "            state_key = (current_pos, visited, current_trip)\n",
        "            if state_key in closed_set:\n",
        "                continue\n",
        "            closed_set.add(state_key)\n",
        "\n",
        "            if len(visited) == self.n_patients:\n",
        "                final_cost = total_cost + self.cost_matrix[current_pos][self.hospital]\n",
        "                if final_cost < best_cost:\n",
        "                    best_cost, best_solution = final_cost, (visited, final_cost)\n",
        "                continue\n",
        "\n",
        "            remaining = [i for i in range(1, self.n_patients + 1) if i not in visited]\n",
        "\n",
        "            if len(current_trip) < 3 and remaining:\n",
        "                for next_patient in remaining:\n",
        "                    new_cost = total_cost + self.cost_matrix[current_pos][next_patient]\n",
        "                    new_visited = tuple(sorted(list(visited) + [next_patient]))\n",
        "                    new_trip = tuple(sorted(list(current_trip) + [next_patient]))\n",
        "                    new_state = (next_patient, new_visited, new_trip, new_cost)\n",
        "                    h_score = heuristic([p for p in range(1, self.n_patients + 1) if p not in new_visited], next_patient)\n",
        "                    f_score = new_cost + h_score\n",
        "                    heapq.heappush(open_set, (f_score, new_cost, new_state))\n",
        "\n",
        "            if current_trip and remaining:\n",
        "                return_cost = total_cost + self.cost_matrix[current_pos][self.hospital]\n",
        "                new_state = (self.hospital, visited, tuple(), return_cost)\n",
        "                h_score = heuristic(remaining, self.hospital)\n",
        "                f_score = return_cost + h_score\n",
        "                heapq.heappush(open_set, (f_score, return_cost, new_state))\n",
        "\n",
        "        return best_solution\n",
        "\n",
        "    def build_qubo_two_trips(self, P_assign=1000.0, P_cap=500.0):\n",
        "        n = self.n_patients\n",
        "        N = 2 * n\n",
        "        Q = np.zeros((N, N))\n",
        "\n",
        "        for i in range(n):\n",
        "            Q[i, i] += -P_assign\n",
        "            Q[i + n, i + n] += -P_assign\n",
        "            Q[i, i + n] += 2.0 * P_assign\n",
        "\n",
        "        K = 3\n",
        "        for trip_offset in [0, n]:\n",
        "            lin_coef = (1.0 - 2.0 * K) * P_cap\n",
        "            for i in range(n):\n",
        "                Q[trip_offset + i, trip_offset + i] += lin_coef\n",
        "            for i in range(n):\n",
        "                for j in range(i + 1, n):\n",
        "                    Q[trip_offset + i, trip_offset + j] += 2.0 * P_cap\n",
        "\n",
        "        for i in range(n):\n",
        "            hcost = self.cost_matrix[0, i + 1] + self.cost_matrix[i + 1, 0]\n",
        "            Q[i, i] += hcost\n",
        "            Q[n + i, n + i] += hcost\n",
        "\n",
        "        for i in range(n):\n",
        "            for j in range(i + 1, n):\n",
        "                pair_cost = self.cost_matrix[i + 1, j + 1]\n",
        "                Q[i, j] += pair_cost\n",
        "                Q[n + i, n + j] += pair_cost\n",
        "\n",
        "        return Q\n",
        "\n",
        "    def qubo_to_ising(self, Q):\n",
        "        N = Q.shape[0]\n",
        "        a = np.diag(Q).copy()\n",
        "        b = np.triu(Q, k=1).copy()\n",
        "        const = 0.5 * np.sum(a) + 0.25 * np.sum(b)\n",
        "        h = np.zeros(N)\n",
        "        for i in range(N):\n",
        "            sum_b = np.sum(Q[i, :]) - Q[i, i]\n",
        "            h[i] = -0.5 * a[i] - 0.25 * sum_b\n",
        "\n",
        "        pauli_list = []\n",
        "        coeffs = []\n",
        "        for i in range(N):\n",
        "            if abs(h[i]) > 0:\n",
        "                pa = ['I'] * N\n",
        "                pa[i] = 'Z'\n",
        "                pauli_list.append(''.join(pa))\n",
        "                coeffs.append(h[i])\n",
        "        for i in range(N):\n",
        "            for j in range(i + 1, N):\n",
        "                if abs(Q[i, j]) > 1e-12:\n",
        "                    J = 0.25 * Q[i, j]\n",
        "                    pa = ['I'] * N\n",
        "                    pa[i] = 'Z'\n",
        "                    pa[j] = 'Z'\n",
        "                    pauli_list.append(''.join(pa))\n",
        "                    coeffs.append(J)\n",
        "\n",
        "        sparse = SparsePauliOp.from_list(list(zip(pauli_list, coeffs)))\n",
        "        return sparse, const\n",
        "\n",
        "    # ---- sample many times and aggregate decoded km values ----\n",
        "    def solve_quantum_qaoa(self, reps=2, maxiter=300, n_samples=100):\n",
        "        \"\"\"\n",
        "        Full QAOA flow with postprocessing to exact route costs.\n",
        "        n_samples: number of measurement shots (samples) to aggregate.\n",
        "        Returns: dict with summary and samples_hist (mapping rounded_km -> count).\n",
        "        \"\"\"\n",
        "        Q = self.build_qubo_two_trips(P_assign=1000.0, P_cap=500.0)\n",
        "        hamiltonian, constant = self.qubo_to_ising(Q)\n",
        "\n",
        "        optimizer = COBYLA(maxiter=maxiter)\n",
        "        sampler = Sampler()   # using Aer sampler\n",
        "        qaoa = QAOA(sampler=sampler, optimizer=optimizer, reps=reps)\n",
        "\n",
        "        # Compute optimal parameters / eigenvalue\n",
        "        result = qaoa.compute_minimum_eigenvalue(operator=hamiltonian)\n",
        "        optimal_value = result.optimal_value + constant\n",
        "        print(f\"QAOA reported energy (ising): {result.optimal_value:.6f}  (+const {constant:.6f} -> {optimal_value:.6f})\")\n",
        "\n",
        "        # Build the ansatz circuit with found parameters and sample it\n",
        "        try:\n",
        "            qc = qaoa.ansatz.assign_parameters(result.optimal_parameters)\n",
        "        except Exception:\n",
        "            qc = qaoa.ansatz.bind_parameters(result.optimal_parameters)\n",
        "\n",
        "        # Try to request all samples in one run (shots=n_samples).\n",
        "        try:\n",
        "            job = sampler.run([qc], shots=n_samples)\n",
        "            qc_quasi = job.result().quasi_dists[0]  # dict: key -> probability\n",
        "            # Convert to integer counts (approx) by multiplying probabilities by n_samples\n",
        "            sample_counts = {}\n",
        "            for k, p in qc_quasi.items():\n",
        "                cnt = int(round(float(p) * n_samples))\n",
        "                if cnt <= 0:\n",
        "                    continue\n",
        "                sample_counts[k] = cnt\n",
        "        except Exception:\n",
        "            # Fallback: run sampler n_samples times with shots=1\n",
        "            sample_counts = {}\n",
        "            for _ in range(n_samples):\n",
        "                job = sampler.run([qc])  # default single-shot\n",
        "                qc_quasi = job.result().quasi_dists[0]\n",
        "                # pick highest-prob outcome from this single-shot quasi-dist\n",
        "                # convert quasi-dist to most-likely key\n",
        "                if not qc_quasi:\n",
        "                    continue\n",
        "                # qc_quasi mapping may have probs but single-shot; choose max key\n",
        "                best_key = max(qc_quasi.items(), key=lambda x: x[1])[0]\n",
        "                sample_counts[best_key] = sample_counts.get(best_key, 0) + 1\n",
        "\n",
        "        # Now decode each sampled key into trips and exact total cost,\n",
        "        # and aggregate counts over rounded km values.\n",
        "        samples_hist = {}  # rounded_km -> count\n",
        "        detailed_samples = []  # optional list of (bitstr, valid, trip1, trip2, cost, count)\n",
        "        n_qubits = 2 * self.n_patients\n",
        "\n",
        "        for key, cnt in sample_counts.items():\n",
        "            bitstr = parse_state_key(key, n_qubits)\n",
        "            # try both endiannesses: as-is and reversed\n",
        "            valid, trip1, trip2 = check_constraints_and_decode(bitstr, self.n_patients, max_stops=3)\n",
        "            used_bitstr = bitstr\n",
        "            if not valid:\n",
        "                # try reversed\n",
        "                valid_r, trip1_r, trip2_r = check_constraints_and_decode(bitstr[::-1], self.n_patients, max_stops=3)\n",
        "                if valid_r:\n",
        "                    valid, trip1, trip2 = valid_r, trip1_r, trip2_r\n",
        "                    used_bitstr = bitstr[::-1]\n",
        "                else:\n",
        "                    # repair if still invalid\n",
        "                    repaired_t1, repaired_t2 = repair_assignment(bitstr, self.n_patients, max_stops=3, cost_matrix=self.cost_matrix)\n",
        "                    trip1, trip2 = repaired_t1, repaired_t2\n",
        "                    valid = False  # repaired\n",
        "                    used_bitstr = bitstr\n",
        "\n",
        "            cost1 = route_min_cost(trip1, self.cost_matrix)\n",
        "            cost2 = route_min_cost(trip2, self.cost_matrix)\n",
        "            total = cost1 + cost2\n",
        "            # round to a sensible precision for histogram keys (e.g., 3 decimals)\n",
        "            key_km = round(float(total), 3)\n",
        "            samples_hist[key_km] = samples_hist.get(key_km, 0) + cnt\n",
        "            detailed_samples.append((used_bitstr, valid, trip1, trip2, total, cnt))\n",
        "\n",
        "        # Print top few decoded solutions\n",
        "        top_sorted = sorted(samples_hist.items(), key=lambda x: -x[1])\n",
        "        print(\"\\nTop observed total-costs (km) and frequencies:\")\n",
        "        for cost_km, c in top_sorted[:10]:\n",
        "            print(f\"  {cost_km:.3f} km  -  {c} occurrences\")\n",
        "\n",
        "        # Plot histogram of observed total-costs\n",
        "        if samples_hist:\n",
        "            x = sorted(samples_hist.keys())\n",
        "            y = [samples_hist[k] for k in x]\n",
        "            plt.figure(figsize=(20,10))\n",
        "            plt.bar(x, y, width=0.2, color = \"skyblue\",edgecolor='black')\n",
        "            plt.xlabel(\"Total two-trip distance (km)\")\n",
        "            plt.ylabel(\"Frequency (occurrences out of samples)\")\n",
        "            plt.title(f\"QAOA decoded total distances (n_samples={n_samples})\")\n",
        "            plt.tight_layout()\n",
        "            plt.show()\n",
        "        else:\n",
        "            print(\"No samples collected to plot.\")\n",
        "\n",
        "        return {\n",
        "            \"success\": True,\n",
        "            \"quantum_energy\": float(result.optimal_value),\n",
        "            \"quantum_energy_with_const\": float(optimal_value),\n",
        "            \"samples_hist\": samples_hist,\n",
        "            \"detailed_samples\": detailed_samples\n",
        "        }\n",
        "\n",
        "    def solve_and_compare(self, n_samples=100):\n",
        "        print(\"QueueBo: Smart Traffic Optimization\")\n",
        "        print(\"=\" * 50)\n",
        "        print(\"\\nCost Matrix (Hospital=0, Patients=1-5):\")\n",
        "        print(self.cost_matrix)\n",
        "\n",
        "        print(\"\\n1. CLASSICAL A* APPROACH:\")\n",
        "        print(\"-\" * 30)\n",
        "        classical_result = self.a_star_classical()\n",
        "        if classical_result:\n",
        "            visited_order, total_cost = classical_result\n",
        "            print(f\"Optimal route order: {visited_order}\")\n",
        "            print(f\"Total cost: {total_cost}\")\n",
        "        else:\n",
        "            print(\"No solution found with classical approach\")\n",
        "\n",
        "        print(\"\\n2. QUANTUM QAOA APPROACH (2-trip encoded, sampling):\")\n",
        "        print(\"-\" * 30)\n",
        "        quantum_result = self.solve_quantum_qaoa(reps=2, maxiter=300, n_samples=n_samples)\n",
        "        return {\"classical\": classical_result, \"quantum\": quantum_result}\n",
        "\n",
        "\n",
        "# -------------------------\n",
        "# Run demo\n",
        "# -------------------------\n",
        "if __name__ == \"__main__\":\n",
        "    print(\"Initializing QueueBo Smart Traffic Optimization System...\")\n",
        "    cost_matrix = np.array([\n",
        "        [0.0, 8.63, 11.5, 9.45, 10.85, 9.67],\n",
        "        [14.19, 0.0, 2.36, 10.92, 9.24, 9.43],\n",
        "        [17.78, 7.75, 0.0, 11.81, 10.12, 10.48],\n",
        "        [11.86, 19.67, 15.66, 0.0, 11.57, 11.54],\n",
        "        [7.34, 12.17, 10.05, 4.07, 0.0, 5.93],\n",
        "        [9.27, 9.4, 12.27, 7.32, 8.72, 0.0]\n",
        "    ])\n",
        "    optimizer = QueueBoOptimizer(cost_matrix)\n",
        "    res = optimizer.solve_and_compare(n_samples=100)  # <-- run with 100 samples\n"
      ]
    },
    {
      "cell_type": "markdown",
      "metadata": {
        "id": "3weZgYDj-bHx"
      },
      "source": [
        "# Noise simulation 100 itrations"
      ]
    },
    {
      "cell_type": "code",
      "execution_count": null,
      "metadata": {
        "colab": {
          "base_uri": "https://localhost:8080/",
          "height": 1000
        },
        "id": "F5FbcHReUbsU",
        "outputId": "c9b8360a-9223-463e-cafd-edba82ef30aa"
      },
      "outputs": [
        {
          "name": "stdout",
          "output_type": "stream",
          "text": [
            "\n",
            "=== Iteration 1/100 ===\n"
          ]
        },
        {
          "name": "stderr",
          "output_type": "stream",
          "text": [
            "/tmp/ipython-input-769611944.py:80: DeprecationWarning: Sampler has been deprecated as of Aer 0.15, please use SamplerV2 instead.\n",
            "  results = run_noisy_qaoa(cost_matrix, reps=2, maxiter=100, iterations=100)\n"
          ]
        },
        {
          "name": "stdout",
          "output_type": "stream",
          "text": [
            "\n",
            "=== Iteration 2/100 ===\n"
          ]
        },
        {
          "name": "stderr",
          "output_type": "stream",
          "text": [
            "/tmp/ipython-input-769611944.py:80: DeprecationWarning: Sampler has been deprecated as of Aer 0.15, please use SamplerV2 instead.\n",
            "  results = run_noisy_qaoa(cost_matrix, reps=2, maxiter=100, iterations=100)\n"
          ]
        },
        {
          "name": "stdout",
          "output_type": "stream",
          "text": [
            "\n",
            "=== Iteration 3/100 ===\n"
          ]
        },
        {
          "name": "stderr",
          "output_type": "stream",
          "text": [
            "/tmp/ipython-input-769611944.py:80: DeprecationWarning: Sampler has been deprecated as of Aer 0.15, please use SamplerV2 instead.\n",
            "  results = run_noisy_qaoa(cost_matrix, reps=2, maxiter=100, iterations=100)\n"
          ]
        },
        {
          "name": "stdout",
          "output_type": "stream",
          "text": [
            "\n",
            "=== Iteration 4/100 ===\n"
          ]
        },
        {
          "name": "stderr",
          "output_type": "stream",
          "text": [
            "/tmp/ipython-input-769611944.py:80: DeprecationWarning: Sampler has been deprecated as of Aer 0.15, please use SamplerV2 instead.\n",
            "  results = run_noisy_qaoa(cost_matrix, reps=2, maxiter=100, iterations=100)\n"
          ]
        },
        {
          "name": "stdout",
          "output_type": "stream",
          "text": [
            "\n",
            "=== Iteration 5/100 ===\n"
          ]
        },
        {
          "name": "stderr",
          "output_type": "stream",
          "text": [
            "/tmp/ipython-input-769611944.py:80: DeprecationWarning: Sampler has been deprecated as of Aer 0.15, please use SamplerV2 instead.\n",
            "  results = run_noisy_qaoa(cost_matrix, reps=2, maxiter=100, iterations=100)\n"
          ]
        },
        {
          "name": "stdout",
          "output_type": "stream",
          "text": [
            "\n",
            "=== Iteration 6/100 ===\n"
          ]
        },
        {
          "name": "stderr",
          "output_type": "stream",
          "text": [
            "/tmp/ipython-input-769611944.py:80: DeprecationWarning: Sampler has been deprecated as of Aer 0.15, please use SamplerV2 instead.\n",
            "  results = run_noisy_qaoa(cost_matrix, reps=2, maxiter=100, iterations=100)\n"
          ]
        },
        {
          "name": "stdout",
          "output_type": "stream",
          "text": [
            "\n",
            "=== Iteration 7/100 ===\n"
          ]
        },
        {
          "name": "stderr",
          "output_type": "stream",
          "text": [
            "/tmp/ipython-input-769611944.py:80: DeprecationWarning: Sampler has been deprecated as of Aer 0.15, please use SamplerV2 instead.\n",
            "  results = run_noisy_qaoa(cost_matrix, reps=2, maxiter=100, iterations=100)\n"
          ]
        },
        {
          "name": "stdout",
          "output_type": "stream",
          "text": [
            "\n",
            "=== Iteration 8/100 ===\n"
          ]
        },
        {
          "name": "stderr",
          "output_type": "stream",
          "text": [
            "/tmp/ipython-input-769611944.py:80: DeprecationWarning: Sampler has been deprecated as of Aer 0.15, please use SamplerV2 instead.\n",
            "  results = run_noisy_qaoa(cost_matrix, reps=2, maxiter=100, iterations=100)\n"
          ]
        },
        {
          "name": "stdout",
          "output_type": "stream",
          "text": [
            "\n",
            "=== Iteration 9/100 ===\n"
          ]
        },
        {
          "name": "stderr",
          "output_type": "stream",
          "text": [
            "/tmp/ipython-input-769611944.py:80: DeprecationWarning: Sampler has been deprecated as of Aer 0.15, please use SamplerV2 instead.\n",
            "  results = run_noisy_qaoa(cost_matrix, reps=2, maxiter=100, iterations=100)\n"
          ]
        },
        {
          "name": "stdout",
          "output_type": "stream",
          "text": [
            "\n",
            "=== Iteration 10/100 ===\n"
          ]
        },
        {
          "name": "stderr",
          "output_type": "stream",
          "text": [
            "/tmp/ipython-input-769611944.py:80: DeprecationWarning: Sampler has been deprecated as of Aer 0.15, please use SamplerV2 instead.\n",
            "  results = run_noisy_qaoa(cost_matrix, reps=2, maxiter=100, iterations=100)\n"
          ]
        },
        {
          "name": "stdout",
          "output_type": "stream",
          "text": [
            "\n",
            "=== Iteration 11/100 ===\n"
          ]
        },
        {
          "name": "stderr",
          "output_type": "stream",
          "text": [
            "/tmp/ipython-input-769611944.py:80: DeprecationWarning: Sampler has been deprecated as of Aer 0.15, please use SamplerV2 instead.\n",
            "  results = run_noisy_qaoa(cost_matrix, reps=2, maxiter=100, iterations=100)\n"
          ]
        },
        {
          "name": "stdout",
          "output_type": "stream",
          "text": [
            "\n",
            "=== Iteration 12/100 ===\n"
          ]
        },
        {
          "name": "stderr",
          "output_type": "stream",
          "text": [
            "/tmp/ipython-input-769611944.py:80: DeprecationWarning: Sampler has been deprecated as of Aer 0.15, please use SamplerV2 instead.\n",
            "  results = run_noisy_qaoa(cost_matrix, reps=2, maxiter=100, iterations=100)\n"
          ]
        },
        {
          "name": "stdout",
          "output_type": "stream",
          "text": [
            "\n",
            "=== Iteration 13/100 ===\n"
          ]
        },
        {
          "name": "stderr",
          "output_type": "stream",
          "text": [
            "/tmp/ipython-input-769611944.py:80: DeprecationWarning: Sampler has been deprecated as of Aer 0.15, please use SamplerV2 instead.\n",
            "  results = run_noisy_qaoa(cost_matrix, reps=2, maxiter=100, iterations=100)\n"
          ]
        },
        {
          "name": "stdout",
          "output_type": "stream",
          "text": [
            "\n",
            "=== Iteration 14/100 ===\n"
          ]
        },
        {
          "name": "stderr",
          "output_type": "stream",
          "text": [
            "/tmp/ipython-input-769611944.py:80: DeprecationWarning: Sampler has been deprecated as of Aer 0.15, please use SamplerV2 instead.\n",
            "  results = run_noisy_qaoa(cost_matrix, reps=2, maxiter=100, iterations=100)\n"
          ]
        },
        {
          "name": "stdout",
          "output_type": "stream",
          "text": [
            "\n",
            "=== Iteration 15/100 ===\n"
          ]
        },
        {
          "name": "stderr",
          "output_type": "stream",
          "text": [
            "/tmp/ipython-input-769611944.py:80: DeprecationWarning: Sampler has been deprecated as of Aer 0.15, please use SamplerV2 instead.\n",
            "  results = run_noisy_qaoa(cost_matrix, reps=2, maxiter=100, iterations=100)\n"
          ]
        },
        {
          "name": "stdout",
          "output_type": "stream",
          "text": [
            "\n",
            "=== Iteration 16/100 ===\n"
          ]
        },
        {
          "name": "stderr",
          "output_type": "stream",
          "text": [
            "/tmp/ipython-input-769611944.py:80: DeprecationWarning: Sampler has been deprecated as of Aer 0.15, please use SamplerV2 instead.\n",
            "  results = run_noisy_qaoa(cost_matrix, reps=2, maxiter=100, iterations=100)\n"
          ]
        },
        {
          "name": "stdout",
          "output_type": "stream",
          "text": [
            "\n",
            "=== Iteration 17/100 ===\n"
          ]
        },
        {
          "name": "stderr",
          "output_type": "stream",
          "text": [
            "/tmp/ipython-input-769611944.py:80: DeprecationWarning: Sampler has been deprecated as of Aer 0.15, please use SamplerV2 instead.\n",
            "  results = run_noisy_qaoa(cost_matrix, reps=2, maxiter=100, iterations=100)\n"
          ]
        },
        {
          "name": "stdout",
          "output_type": "stream",
          "text": [
            "\n",
            "=== Iteration 18/100 ===\n"
          ]
        },
        {
          "name": "stderr",
          "output_type": "stream",
          "text": [
            "/tmp/ipython-input-769611944.py:80: DeprecationWarning: Sampler has been deprecated as of Aer 0.15, please use SamplerV2 instead.\n",
            "  results = run_noisy_qaoa(cost_matrix, reps=2, maxiter=100, iterations=100)\n"
          ]
        },
        {
          "name": "stdout",
          "output_type": "stream",
          "text": [
            "\n",
            "=== Iteration 19/100 ===\n"
          ]
        },
        {
          "name": "stderr",
          "output_type": "stream",
          "text": [
            "/tmp/ipython-input-769611944.py:80: DeprecationWarning: Sampler has been deprecated as of Aer 0.15, please use SamplerV2 instead.\n",
            "  results = run_noisy_qaoa(cost_matrix, reps=2, maxiter=100, iterations=100)\n"
          ]
        },
        {
          "name": "stdout",
          "output_type": "stream",
          "text": [
            "\n",
            "=== Iteration 20/100 ===\n"
          ]
        },
        {
          "name": "stderr",
          "output_type": "stream",
          "text": [
            "/tmp/ipython-input-769611944.py:80: DeprecationWarning: Sampler has been deprecated as of Aer 0.15, please use SamplerV2 instead.\n",
            "  results = run_noisy_qaoa(cost_matrix, reps=2, maxiter=100, iterations=100)\n"
          ]
        },
        {
          "name": "stdout",
          "output_type": "stream",
          "text": [
            "\n",
            "=== Iteration 21/100 ===\n"
          ]
        },
        {
          "name": "stderr",
          "output_type": "stream",
          "text": [
            "/tmp/ipython-input-769611944.py:80: DeprecationWarning: Sampler has been deprecated as of Aer 0.15, please use SamplerV2 instead.\n",
            "  results = run_noisy_qaoa(cost_matrix, reps=2, maxiter=100, iterations=100)\n"
          ]
        },
        {
          "name": "stdout",
          "output_type": "stream",
          "text": [
            "\n",
            "=== Iteration 22/100 ===\n"
          ]
        },
        {
          "name": "stderr",
          "output_type": "stream",
          "text": [
            "/tmp/ipython-input-769611944.py:80: DeprecationWarning: Sampler has been deprecated as of Aer 0.15, please use SamplerV2 instead.\n",
            "  results = run_noisy_qaoa(cost_matrix, reps=2, maxiter=100, iterations=100)\n"
          ]
        },
        {
          "name": "stdout",
          "output_type": "stream",
          "text": [
            "\n",
            "=== Iteration 23/100 ===\n"
          ]
        },
        {
          "name": "stderr",
          "output_type": "stream",
          "text": [
            "/tmp/ipython-input-769611944.py:80: DeprecationWarning: Sampler has been deprecated as of Aer 0.15, please use SamplerV2 instead.\n",
            "  results = run_noisy_qaoa(cost_matrix, reps=2, maxiter=100, iterations=100)\n"
          ]
        },
        {
          "name": "stdout",
          "output_type": "stream",
          "text": [
            "\n",
            "=== Iteration 24/100 ===\n"
          ]
        },
        {
          "name": "stderr",
          "output_type": "stream",
          "text": [
            "/tmp/ipython-input-769611944.py:80: DeprecationWarning: Sampler has been deprecated as of Aer 0.15, please use SamplerV2 instead.\n",
            "  results = run_noisy_qaoa(cost_matrix, reps=2, maxiter=100, iterations=100)\n"
          ]
        },
        {
          "name": "stdout",
          "output_type": "stream",
          "text": [
            "\n",
            "=== Iteration 25/100 ===\n"
          ]
        },
        {
          "name": "stderr",
          "output_type": "stream",
          "text": [
            "/tmp/ipython-input-769611944.py:80: DeprecationWarning: Sampler has been deprecated as of Aer 0.15, please use SamplerV2 instead.\n",
            "  results = run_noisy_qaoa(cost_matrix, reps=2, maxiter=100, iterations=100)\n"
          ]
        },
        {
          "name": "stdout",
          "output_type": "stream",
          "text": [
            "\n",
            "=== Iteration 26/100 ===\n"
          ]
        },
        {
          "name": "stderr",
          "output_type": "stream",
          "text": [
            "/tmp/ipython-input-769611944.py:80: DeprecationWarning: Sampler has been deprecated as of Aer 0.15, please use SamplerV2 instead.\n",
            "  results = run_noisy_qaoa(cost_matrix, reps=2, maxiter=100, iterations=100)\n"
          ]
        },
        {
          "name": "stdout",
          "output_type": "stream",
          "text": [
            "\n",
            "=== Iteration 27/100 ===\n"
          ]
        },
        {
          "name": "stderr",
          "output_type": "stream",
          "text": [
            "/tmp/ipython-input-769611944.py:80: DeprecationWarning: Sampler has been deprecated as of Aer 0.15, please use SamplerV2 instead.\n",
            "  results = run_noisy_qaoa(cost_matrix, reps=2, maxiter=100, iterations=100)\n"
          ]
        },
        {
          "name": "stdout",
          "output_type": "stream",
          "text": [
            "\n",
            "=== Iteration 28/100 ===\n"
          ]
        },
        {
          "name": "stderr",
          "output_type": "stream",
          "text": [
            "/tmp/ipython-input-769611944.py:80: DeprecationWarning: Sampler has been deprecated as of Aer 0.15, please use SamplerV2 instead.\n",
            "  results = run_noisy_qaoa(cost_matrix, reps=2, maxiter=100, iterations=100)\n"
          ]
        },
        {
          "name": "stdout",
          "output_type": "stream",
          "text": [
            "\n",
            "=== Iteration 29/100 ===\n"
          ]
        },
        {
          "name": "stderr",
          "output_type": "stream",
          "text": [
            "/tmp/ipython-input-769611944.py:80: DeprecationWarning: Sampler has been deprecated as of Aer 0.15, please use SamplerV2 instead.\n",
            "  results = run_noisy_qaoa(cost_matrix, reps=2, maxiter=100, iterations=100)\n"
          ]
        },
        {
          "name": "stdout",
          "output_type": "stream",
          "text": [
            "\n",
            "=== Iteration 30/100 ===\n"
          ]
        },
        {
          "name": "stderr",
          "output_type": "stream",
          "text": [
            "/tmp/ipython-input-769611944.py:80: DeprecationWarning: Sampler has been deprecated as of Aer 0.15, please use SamplerV2 instead.\n",
            "  results = run_noisy_qaoa(cost_matrix, reps=2, maxiter=100, iterations=100)\n"
          ]
        },
        {
          "name": "stdout",
          "output_type": "stream",
          "text": [
            "\n",
            "=== Iteration 31/100 ===\n"
          ]
        },
        {
          "name": "stderr",
          "output_type": "stream",
          "text": [
            "/tmp/ipython-input-769611944.py:80: DeprecationWarning: Sampler has been deprecated as of Aer 0.15, please use SamplerV2 instead.\n",
            "  results = run_noisy_qaoa(cost_matrix, reps=2, maxiter=100, iterations=100)\n"
          ]
        },
        {
          "name": "stdout",
          "output_type": "stream",
          "text": [
            "\n",
            "=== Iteration 32/100 ===\n"
          ]
        },
        {
          "name": "stderr",
          "output_type": "stream",
          "text": [
            "/tmp/ipython-input-769611944.py:80: DeprecationWarning: Sampler has been deprecated as of Aer 0.15, please use SamplerV2 instead.\n",
            "  results = run_noisy_qaoa(cost_matrix, reps=2, maxiter=100, iterations=100)\n"
          ]
        },
        {
          "name": "stdout",
          "output_type": "stream",
          "text": [
            "\n",
            "=== Iteration 33/100 ===\n"
          ]
        },
        {
          "name": "stderr",
          "output_type": "stream",
          "text": [
            "/tmp/ipython-input-769611944.py:80: DeprecationWarning: Sampler has been deprecated as of Aer 0.15, please use SamplerV2 instead.\n",
            "  results = run_noisy_qaoa(cost_matrix, reps=2, maxiter=100, iterations=100)\n"
          ]
        },
        {
          "name": "stdout",
          "output_type": "stream",
          "text": [
            "\n",
            "=== Iteration 34/100 ===\n"
          ]
        },
        {
          "name": "stderr",
          "output_type": "stream",
          "text": [
            "/tmp/ipython-input-769611944.py:80: DeprecationWarning: Sampler has been deprecated as of Aer 0.15, please use SamplerV2 instead.\n",
            "  results = run_noisy_qaoa(cost_matrix, reps=2, maxiter=100, iterations=100)\n"
          ]
        },
        {
          "name": "stdout",
          "output_type": "stream",
          "text": [
            "\n",
            "=== Iteration 35/100 ===\n"
          ]
        },
        {
          "name": "stderr",
          "output_type": "stream",
          "text": [
            "/tmp/ipython-input-769611944.py:80: DeprecationWarning: Sampler has been deprecated as of Aer 0.15, please use SamplerV2 instead.\n",
            "  results = run_noisy_qaoa(cost_matrix, reps=2, maxiter=100, iterations=100)\n"
          ]
        },
        {
          "name": "stdout",
          "output_type": "stream",
          "text": [
            "\n",
            "=== Iteration 36/100 ===\n"
          ]
        },
        {
          "name": "stderr",
          "output_type": "stream",
          "text": [
            "/tmp/ipython-input-769611944.py:80: DeprecationWarning: Sampler has been deprecated as of Aer 0.15, please use SamplerV2 instead.\n",
            "  results = run_noisy_qaoa(cost_matrix, reps=2, maxiter=100, iterations=100)\n"
          ]
        },
        {
          "name": "stdout",
          "output_type": "stream",
          "text": [
            "\n",
            "=== Iteration 37/100 ===\n"
          ]
        },
        {
          "name": "stderr",
          "output_type": "stream",
          "text": [
            "/tmp/ipython-input-769611944.py:80: DeprecationWarning: Sampler has been deprecated as of Aer 0.15, please use SamplerV2 instead.\n",
            "  results = run_noisy_qaoa(cost_matrix, reps=2, maxiter=100, iterations=100)\n"
          ]
        },
        {
          "name": "stdout",
          "output_type": "stream",
          "text": [
            "\n",
            "=== Iteration 38/100 ===\n"
          ]
        },
        {
          "name": "stderr",
          "output_type": "stream",
          "text": [
            "/tmp/ipython-input-769611944.py:80: DeprecationWarning: Sampler has been deprecated as of Aer 0.15, please use SamplerV2 instead.\n",
            "  results = run_noisy_qaoa(cost_matrix, reps=2, maxiter=100, iterations=100)\n"
          ]
        },
        {
          "name": "stdout",
          "output_type": "stream",
          "text": [
            "\n",
            "=== Iteration 39/100 ===\n"
          ]
        },
        {
          "name": "stderr",
          "output_type": "stream",
          "text": [
            "/tmp/ipython-input-769611944.py:80: DeprecationWarning: Sampler has been deprecated as of Aer 0.15, please use SamplerV2 instead.\n",
            "  results = run_noisy_qaoa(cost_matrix, reps=2, maxiter=100, iterations=100)\n"
          ]
        },
        {
          "name": "stdout",
          "output_type": "stream",
          "text": [
            "\n",
            "=== Iteration 40/100 ===\n"
          ]
        },
        {
          "name": "stderr",
          "output_type": "stream",
          "text": [
            "/tmp/ipython-input-769611944.py:80: DeprecationWarning: Sampler has been deprecated as of Aer 0.15, please use SamplerV2 instead.\n",
            "  results = run_noisy_qaoa(cost_matrix, reps=2, maxiter=100, iterations=100)\n"
          ]
        },
        {
          "name": "stdout",
          "output_type": "stream",
          "text": [
            "\n",
            "=== Iteration 41/100 ===\n"
          ]
        },
        {
          "name": "stderr",
          "output_type": "stream",
          "text": [
            "/tmp/ipython-input-769611944.py:80: DeprecationWarning: Sampler has been deprecated as of Aer 0.15, please use SamplerV2 instead.\n",
            "  results = run_noisy_qaoa(cost_matrix, reps=2, maxiter=100, iterations=100)\n"
          ]
        },
        {
          "name": "stdout",
          "output_type": "stream",
          "text": [
            "\n",
            "=== Iteration 42/100 ===\n"
          ]
        },
        {
          "name": "stderr",
          "output_type": "stream",
          "text": [
            "/tmp/ipython-input-769611944.py:80: DeprecationWarning: Sampler has been deprecated as of Aer 0.15, please use SamplerV2 instead.\n",
            "  results = run_noisy_qaoa(cost_matrix, reps=2, maxiter=100, iterations=100)\n"
          ]
        },
        {
          "name": "stdout",
          "output_type": "stream",
          "text": [
            "\n",
            "=== Iteration 43/100 ===\n"
          ]
        },
        {
          "name": "stderr",
          "output_type": "stream",
          "text": [
            "/tmp/ipython-input-769611944.py:80: DeprecationWarning: Sampler has been deprecated as of Aer 0.15, please use SamplerV2 instead.\n",
            "  results = run_noisy_qaoa(cost_matrix, reps=2, maxiter=100, iterations=100)\n"
          ]
        },
        {
          "name": "stdout",
          "output_type": "stream",
          "text": [
            "\n",
            "=== Iteration 44/100 ===\n"
          ]
        },
        {
          "name": "stderr",
          "output_type": "stream",
          "text": [
            "/tmp/ipython-input-769611944.py:80: DeprecationWarning: Sampler has been deprecated as of Aer 0.15, please use SamplerV2 instead.\n",
            "  results = run_noisy_qaoa(cost_matrix, reps=2, maxiter=100, iterations=100)\n"
          ]
        },
        {
          "name": "stdout",
          "output_type": "stream",
          "text": [
            "\n",
            "=== Iteration 45/100 ===\n"
          ]
        },
        {
          "name": "stderr",
          "output_type": "stream",
          "text": [
            "/tmp/ipython-input-769611944.py:80: DeprecationWarning: Sampler has been deprecated as of Aer 0.15, please use SamplerV2 instead.\n",
            "  results = run_noisy_qaoa(cost_matrix, reps=2, maxiter=100, iterations=100)\n"
          ]
        },
        {
          "name": "stdout",
          "output_type": "stream",
          "text": [
            "\n",
            "=== Iteration 46/100 ===\n"
          ]
        },
        {
          "name": "stderr",
          "output_type": "stream",
          "text": [
            "/tmp/ipython-input-769611944.py:80: DeprecationWarning: Sampler has been deprecated as of Aer 0.15, please use SamplerV2 instead.\n",
            "  results = run_noisy_qaoa(cost_matrix, reps=2, maxiter=100, iterations=100)\n"
          ]
        },
        {
          "name": "stdout",
          "output_type": "stream",
          "text": [
            "\n",
            "=== Iteration 47/100 ===\n"
          ]
        },
        {
          "name": "stderr",
          "output_type": "stream",
          "text": [
            "/tmp/ipython-input-769611944.py:80: DeprecationWarning: Sampler has been deprecated as of Aer 0.15, please use SamplerV2 instead.\n",
            "  results = run_noisy_qaoa(cost_matrix, reps=2, maxiter=100, iterations=100)\n"
          ]
        },
        {
          "name": "stdout",
          "output_type": "stream",
          "text": [
            "\n",
            "=== Iteration 48/100 ===\n"
          ]
        },
        {
          "name": "stderr",
          "output_type": "stream",
          "text": [
            "/tmp/ipython-input-769611944.py:80: DeprecationWarning: Sampler has been deprecated as of Aer 0.15, please use SamplerV2 instead.\n",
            "  results = run_noisy_qaoa(cost_matrix, reps=2, maxiter=100, iterations=100)\n"
          ]
        },
        {
          "name": "stdout",
          "output_type": "stream",
          "text": [
            "\n",
            "=== Iteration 49/100 ===\n"
          ]
        },
        {
          "name": "stderr",
          "output_type": "stream",
          "text": [
            "/tmp/ipython-input-769611944.py:80: DeprecationWarning: Sampler has been deprecated as of Aer 0.15, please use SamplerV2 instead.\n",
            "  results = run_noisy_qaoa(cost_matrix, reps=2, maxiter=100, iterations=100)\n"
          ]
        },
        {
          "name": "stdout",
          "output_type": "stream",
          "text": [
            "\n",
            "=== Iteration 50/100 ===\n"
          ]
        },
        {
          "name": "stderr",
          "output_type": "stream",
          "text": [
            "/tmp/ipython-input-769611944.py:80: DeprecationWarning: Sampler has been deprecated as of Aer 0.15, please use SamplerV2 instead.\n",
            "  results = run_noisy_qaoa(cost_matrix, reps=2, maxiter=100, iterations=100)\n"
          ]
        },
        {
          "name": "stdout",
          "output_type": "stream",
          "text": [
            "\n",
            "=== Iteration 51/100 ===\n"
          ]
        },
        {
          "name": "stderr",
          "output_type": "stream",
          "text": [
            "/tmp/ipython-input-769611944.py:80: DeprecationWarning: Sampler has been deprecated as of Aer 0.15, please use SamplerV2 instead.\n",
            "  results = run_noisy_qaoa(cost_matrix, reps=2, maxiter=100, iterations=100)\n"
          ]
        },
        {
          "name": "stdout",
          "output_type": "stream",
          "text": [
            "\n",
            "=== Iteration 52/100 ===\n"
          ]
        },
        {
          "name": "stderr",
          "output_type": "stream",
          "text": [
            "/tmp/ipython-input-769611944.py:80: DeprecationWarning: Sampler has been deprecated as of Aer 0.15, please use SamplerV2 instead.\n",
            "  results = run_noisy_qaoa(cost_matrix, reps=2, maxiter=100, iterations=100)\n"
          ]
        },
        {
          "name": "stdout",
          "output_type": "stream",
          "text": [
            "\n",
            "=== Iteration 53/100 ===\n"
          ]
        },
        {
          "name": "stderr",
          "output_type": "stream",
          "text": [
            "/tmp/ipython-input-769611944.py:80: DeprecationWarning: Sampler has been deprecated as of Aer 0.15, please use SamplerV2 instead.\n",
            "  results = run_noisy_qaoa(cost_matrix, reps=2, maxiter=100, iterations=100)\n"
          ]
        },
        {
          "name": "stdout",
          "output_type": "stream",
          "text": [
            "\n",
            "=== Iteration 54/100 ===\n"
          ]
        },
        {
          "name": "stderr",
          "output_type": "stream",
          "text": [
            "/tmp/ipython-input-769611944.py:80: DeprecationWarning: Sampler has been deprecated as of Aer 0.15, please use SamplerV2 instead.\n",
            "  results = run_noisy_qaoa(cost_matrix, reps=2, maxiter=100, iterations=100)\n"
          ]
        },
        {
          "name": "stdout",
          "output_type": "stream",
          "text": [
            "\n",
            "=== Iteration 55/100 ===\n"
          ]
        },
        {
          "name": "stderr",
          "output_type": "stream",
          "text": [
            "/tmp/ipython-input-769611944.py:80: DeprecationWarning: Sampler has been deprecated as of Aer 0.15, please use SamplerV2 instead.\n",
            "  results = run_noisy_qaoa(cost_matrix, reps=2, maxiter=100, iterations=100)\n"
          ]
        },
        {
          "name": "stdout",
          "output_type": "stream",
          "text": [
            "\n",
            "=== Iteration 56/100 ===\n"
          ]
        },
        {
          "name": "stderr",
          "output_type": "stream",
          "text": [
            "/tmp/ipython-input-769611944.py:80: DeprecationWarning: Sampler has been deprecated as of Aer 0.15, please use SamplerV2 instead.\n",
            "  results = run_noisy_qaoa(cost_matrix, reps=2, maxiter=100, iterations=100)\n"
          ]
        },
        {
          "name": "stdout",
          "output_type": "stream",
          "text": [
            "\n",
            "=== Iteration 57/100 ===\n"
          ]
        },
        {
          "name": "stderr",
          "output_type": "stream",
          "text": [
            "/tmp/ipython-input-769611944.py:80: DeprecationWarning: Sampler has been deprecated as of Aer 0.15, please use SamplerV2 instead.\n",
            "  results = run_noisy_qaoa(cost_matrix, reps=2, maxiter=100, iterations=100)\n"
          ]
        },
        {
          "name": "stdout",
          "output_type": "stream",
          "text": [
            "\n",
            "=== Iteration 58/100 ===\n"
          ]
        },
        {
          "name": "stderr",
          "output_type": "stream",
          "text": [
            "/tmp/ipython-input-769611944.py:80: DeprecationWarning: Sampler has been deprecated as of Aer 0.15, please use SamplerV2 instead.\n",
            "  results = run_noisy_qaoa(cost_matrix, reps=2, maxiter=100, iterations=100)\n"
          ]
        },
        {
          "name": "stdout",
          "output_type": "stream",
          "text": [
            "\n",
            "=== Iteration 59/100 ===\n"
          ]
        },
        {
          "name": "stderr",
          "output_type": "stream",
          "text": [
            "/tmp/ipython-input-769611944.py:80: DeprecationWarning: Sampler has been deprecated as of Aer 0.15, please use SamplerV2 instead.\n",
            "  results = run_noisy_qaoa(cost_matrix, reps=2, maxiter=100, iterations=100)\n"
          ]
        },
        {
          "name": "stdout",
          "output_type": "stream",
          "text": [
            "\n",
            "=== Iteration 60/100 ===\n"
          ]
        },
        {
          "name": "stderr",
          "output_type": "stream",
          "text": [
            "/tmp/ipython-input-769611944.py:80: DeprecationWarning: Sampler has been deprecated as of Aer 0.15, please use SamplerV2 instead.\n",
            "  results = run_noisy_qaoa(cost_matrix, reps=2, maxiter=100, iterations=100)\n"
          ]
        },
        {
          "name": "stdout",
          "output_type": "stream",
          "text": [
            "\n",
            "=== Iteration 61/100 ===\n"
          ]
        },
        {
          "name": "stderr",
          "output_type": "stream",
          "text": [
            "/tmp/ipython-input-769611944.py:80: DeprecationWarning: Sampler has been deprecated as of Aer 0.15, please use SamplerV2 instead.\n",
            "  results = run_noisy_qaoa(cost_matrix, reps=2, maxiter=100, iterations=100)\n"
          ]
        },
        {
          "name": "stdout",
          "output_type": "stream",
          "text": [
            "\n",
            "=== Iteration 62/100 ===\n"
          ]
        },
        {
          "name": "stderr",
          "output_type": "stream",
          "text": [
            "/tmp/ipython-input-769611944.py:80: DeprecationWarning: Sampler has been deprecated as of Aer 0.15, please use SamplerV2 instead.\n",
            "  results = run_noisy_qaoa(cost_matrix, reps=2, maxiter=100, iterations=100)\n"
          ]
        },
        {
          "name": "stdout",
          "output_type": "stream",
          "text": [
            "\n",
            "=== Iteration 63/100 ===\n"
          ]
        },
        {
          "name": "stderr",
          "output_type": "stream",
          "text": [
            "/tmp/ipython-input-769611944.py:80: DeprecationWarning: Sampler has been deprecated as of Aer 0.15, please use SamplerV2 instead.\n",
            "  results = run_noisy_qaoa(cost_matrix, reps=2, maxiter=100, iterations=100)\n"
          ]
        },
        {
          "name": "stdout",
          "output_type": "stream",
          "text": [
            "\n",
            "=== Iteration 64/100 ===\n"
          ]
        },
        {
          "name": "stderr",
          "output_type": "stream",
          "text": [
            "/tmp/ipython-input-769611944.py:80: DeprecationWarning: Sampler has been deprecated as of Aer 0.15, please use SamplerV2 instead.\n",
            "  results = run_noisy_qaoa(cost_matrix, reps=2, maxiter=100, iterations=100)\n"
          ]
        },
        {
          "name": "stdout",
          "output_type": "stream",
          "text": [
            "\n",
            "=== Iteration 65/100 ===\n"
          ]
        },
        {
          "name": "stderr",
          "output_type": "stream",
          "text": [
            "/tmp/ipython-input-769611944.py:80: DeprecationWarning: Sampler has been deprecated as of Aer 0.15, please use SamplerV2 instead.\n",
            "  results = run_noisy_qaoa(cost_matrix, reps=2, maxiter=100, iterations=100)\n"
          ]
        },
        {
          "name": "stdout",
          "output_type": "stream",
          "text": [
            "\n",
            "=== Iteration 66/100 ===\n"
          ]
        },
        {
          "name": "stderr",
          "output_type": "stream",
          "text": [
            "/tmp/ipython-input-769611944.py:80: DeprecationWarning: Sampler has been deprecated as of Aer 0.15, please use SamplerV2 instead.\n",
            "  results = run_noisy_qaoa(cost_matrix, reps=2, maxiter=100, iterations=100)\n"
          ]
        },
        {
          "name": "stdout",
          "output_type": "stream",
          "text": [
            "\n",
            "=== Iteration 67/100 ===\n"
          ]
        },
        {
          "name": "stderr",
          "output_type": "stream",
          "text": [
            "/tmp/ipython-input-769611944.py:80: DeprecationWarning: Sampler has been deprecated as of Aer 0.15, please use SamplerV2 instead.\n",
            "  results = run_noisy_qaoa(cost_matrix, reps=2, maxiter=100, iterations=100)\n"
          ]
        },
        {
          "name": "stdout",
          "output_type": "stream",
          "text": [
            "\n",
            "=== Iteration 68/100 ===\n"
          ]
        },
        {
          "name": "stderr",
          "output_type": "stream",
          "text": [
            "/tmp/ipython-input-769611944.py:80: DeprecationWarning: Sampler has been deprecated as of Aer 0.15, please use SamplerV2 instead.\n",
            "  results = run_noisy_qaoa(cost_matrix, reps=2, maxiter=100, iterations=100)\n"
          ]
        },
        {
          "name": "stdout",
          "output_type": "stream",
          "text": [
            "\n",
            "=== Iteration 69/100 ===\n"
          ]
        },
        {
          "name": "stderr",
          "output_type": "stream",
          "text": [
            "/tmp/ipython-input-769611944.py:80: DeprecationWarning: Sampler has been deprecated as of Aer 0.15, please use SamplerV2 instead.\n",
            "  results = run_noisy_qaoa(cost_matrix, reps=2, maxiter=100, iterations=100)\n"
          ]
        },
        {
          "name": "stdout",
          "output_type": "stream",
          "text": [
            "\n",
            "=== Iteration 70/100 ===\n"
          ]
        },
        {
          "name": "stderr",
          "output_type": "stream",
          "text": [
            "/tmp/ipython-input-769611944.py:80: DeprecationWarning: Sampler has been deprecated as of Aer 0.15, please use SamplerV2 instead.\n",
            "  results = run_noisy_qaoa(cost_matrix, reps=2, maxiter=100, iterations=100)\n"
          ]
        },
        {
          "name": "stdout",
          "output_type": "stream",
          "text": [
            "\n",
            "=== Iteration 71/100 ===\n"
          ]
        },
        {
          "name": "stderr",
          "output_type": "stream",
          "text": [
            "/tmp/ipython-input-769611944.py:80: DeprecationWarning: Sampler has been deprecated as of Aer 0.15, please use SamplerV2 instead.\n",
            "  results = run_noisy_qaoa(cost_matrix, reps=2, maxiter=100, iterations=100)\n"
          ]
        },
        {
          "name": "stdout",
          "output_type": "stream",
          "text": [
            "\n",
            "=== Iteration 72/100 ===\n"
          ]
        },
        {
          "name": "stderr",
          "output_type": "stream",
          "text": [
            "/tmp/ipython-input-769611944.py:80: DeprecationWarning: Sampler has been deprecated as of Aer 0.15, please use SamplerV2 instead.\n",
            "  results = run_noisy_qaoa(cost_matrix, reps=2, maxiter=100, iterations=100)\n"
          ]
        },
        {
          "name": "stdout",
          "output_type": "stream",
          "text": [
            "\n",
            "=== Iteration 73/100 ===\n"
          ]
        },
        {
          "name": "stderr",
          "output_type": "stream",
          "text": [
            "/tmp/ipython-input-769611944.py:80: DeprecationWarning: Sampler has been deprecated as of Aer 0.15, please use SamplerV2 instead.\n",
            "  results = run_noisy_qaoa(cost_matrix, reps=2, maxiter=100, iterations=100)\n"
          ]
        },
        {
          "name": "stdout",
          "output_type": "stream",
          "text": [
            "\n",
            "=== Iteration 74/100 ===\n"
          ]
        },
        {
          "name": "stderr",
          "output_type": "stream",
          "text": [
            "/tmp/ipython-input-769611944.py:80: DeprecationWarning: Sampler has been deprecated as of Aer 0.15, please use SamplerV2 instead.\n",
            "  results = run_noisy_qaoa(cost_matrix, reps=2, maxiter=100, iterations=100)\n"
          ]
        },
        {
          "name": "stdout",
          "output_type": "stream",
          "text": [
            "\n",
            "=== Iteration 75/100 ===\n"
          ]
        },
        {
          "name": "stderr",
          "output_type": "stream",
          "text": [
            "/tmp/ipython-input-769611944.py:80: DeprecationWarning: Sampler has been deprecated as of Aer 0.15, please use SamplerV2 instead.\n",
            "  results = run_noisy_qaoa(cost_matrix, reps=2, maxiter=100, iterations=100)\n"
          ]
        },
        {
          "name": "stdout",
          "output_type": "stream",
          "text": [
            "\n",
            "=== Iteration 76/100 ===\n"
          ]
        },
        {
          "name": "stderr",
          "output_type": "stream",
          "text": [
            "/tmp/ipython-input-769611944.py:80: DeprecationWarning: Sampler has been deprecated as of Aer 0.15, please use SamplerV2 instead.\n",
            "  results = run_noisy_qaoa(cost_matrix, reps=2, maxiter=100, iterations=100)\n"
          ]
        },
        {
          "name": "stdout",
          "output_type": "stream",
          "text": [
            "\n",
            "=== Iteration 77/100 ===\n"
          ]
        },
        {
          "name": "stderr",
          "output_type": "stream",
          "text": [
            "/tmp/ipython-input-769611944.py:80: DeprecationWarning: Sampler has been deprecated as of Aer 0.15, please use SamplerV2 instead.\n",
            "  results = run_noisy_qaoa(cost_matrix, reps=2, maxiter=100, iterations=100)\n"
          ]
        },
        {
          "name": "stdout",
          "output_type": "stream",
          "text": [
            "\n",
            "=== Iteration 78/100 ===\n"
          ]
        },
        {
          "name": "stderr",
          "output_type": "stream",
          "text": [
            "/tmp/ipython-input-769611944.py:80: DeprecationWarning: Sampler has been deprecated as of Aer 0.15, please use SamplerV2 instead.\n",
            "  results = run_noisy_qaoa(cost_matrix, reps=2, maxiter=100, iterations=100)\n"
          ]
        },
        {
          "name": "stdout",
          "output_type": "stream",
          "text": [
            "\n",
            "=== Iteration 79/100 ===\n"
          ]
        },
        {
          "name": "stderr",
          "output_type": "stream",
          "text": [
            "/tmp/ipython-input-769611944.py:80: DeprecationWarning: Sampler has been deprecated as of Aer 0.15, please use SamplerV2 instead.\n",
            "  results = run_noisy_qaoa(cost_matrix, reps=2, maxiter=100, iterations=100)\n"
          ]
        },
        {
          "name": "stdout",
          "output_type": "stream",
          "text": [
            "\n",
            "=== Iteration 80/100 ===\n"
          ]
        },
        {
          "name": "stderr",
          "output_type": "stream",
          "text": [
            "/tmp/ipython-input-769611944.py:80: DeprecationWarning: Sampler has been deprecated as of Aer 0.15, please use SamplerV2 instead.\n",
            "  results = run_noisy_qaoa(cost_matrix, reps=2, maxiter=100, iterations=100)\n"
          ]
        },
        {
          "name": "stdout",
          "output_type": "stream",
          "text": [
            "\n",
            "=== Iteration 81/100 ===\n"
          ]
        },
        {
          "name": "stderr",
          "output_type": "stream",
          "text": [
            "/tmp/ipython-input-769611944.py:80: DeprecationWarning: Sampler has been deprecated as of Aer 0.15, please use SamplerV2 instead.\n",
            "  results = run_noisy_qaoa(cost_matrix, reps=2, maxiter=100, iterations=100)\n"
          ]
        },
        {
          "name": "stdout",
          "output_type": "stream",
          "text": [
            "\n",
            "=== Iteration 82/100 ===\n"
          ]
        },
        {
          "name": "stderr",
          "output_type": "stream",
          "text": [
            "/tmp/ipython-input-769611944.py:80: DeprecationWarning: Sampler has been deprecated as of Aer 0.15, please use SamplerV2 instead.\n",
            "  results = run_noisy_qaoa(cost_matrix, reps=2, maxiter=100, iterations=100)\n"
          ]
        },
        {
          "name": "stdout",
          "output_type": "stream",
          "text": [
            "\n",
            "=== Iteration 83/100 ===\n"
          ]
        },
        {
          "name": "stderr",
          "output_type": "stream",
          "text": [
            "/tmp/ipython-input-769611944.py:80: DeprecationWarning: Sampler has been deprecated as of Aer 0.15, please use SamplerV2 instead.\n",
            "  results = run_noisy_qaoa(cost_matrix, reps=2, maxiter=100, iterations=100)\n"
          ]
        },
        {
          "name": "stdout",
          "output_type": "stream",
          "text": [
            "\n",
            "=== Iteration 84/100 ===\n"
          ]
        },
        {
          "name": "stderr",
          "output_type": "stream",
          "text": [
            "/tmp/ipython-input-769611944.py:80: DeprecationWarning: Sampler has been deprecated as of Aer 0.15, please use SamplerV2 instead.\n",
            "  results = run_noisy_qaoa(cost_matrix, reps=2, maxiter=100, iterations=100)\n"
          ]
        },
        {
          "name": "stdout",
          "output_type": "stream",
          "text": [
            "\n",
            "=== Iteration 85/100 ===\n"
          ]
        },
        {
          "name": "stderr",
          "output_type": "stream",
          "text": [
            "/tmp/ipython-input-769611944.py:80: DeprecationWarning: Sampler has been deprecated as of Aer 0.15, please use SamplerV2 instead.\n",
            "  results = run_noisy_qaoa(cost_matrix, reps=2, maxiter=100, iterations=100)\n"
          ]
        },
        {
          "name": "stdout",
          "output_type": "stream",
          "text": [
            "\n",
            "=== Iteration 86/100 ===\n"
          ]
        },
        {
          "name": "stderr",
          "output_type": "stream",
          "text": [
            "/tmp/ipython-input-769611944.py:80: DeprecationWarning: Sampler has been deprecated as of Aer 0.15, please use SamplerV2 instead.\n",
            "  results = run_noisy_qaoa(cost_matrix, reps=2, maxiter=100, iterations=100)\n"
          ]
        },
        {
          "name": "stdout",
          "output_type": "stream",
          "text": [
            "\n",
            "=== Iteration 87/100 ===\n"
          ]
        },
        {
          "name": "stderr",
          "output_type": "stream",
          "text": [
            "/tmp/ipython-input-769611944.py:80: DeprecationWarning: Sampler has been deprecated as of Aer 0.15, please use SamplerV2 instead.\n",
            "  results = run_noisy_qaoa(cost_matrix, reps=2, maxiter=100, iterations=100)\n"
          ]
        },
        {
          "name": "stdout",
          "output_type": "stream",
          "text": [
            "\n",
            "=== Iteration 88/100 ===\n"
          ]
        },
        {
          "name": "stderr",
          "output_type": "stream",
          "text": [
            "/tmp/ipython-input-769611944.py:80: DeprecationWarning: Sampler has been deprecated as of Aer 0.15, please use SamplerV2 instead.\n",
            "  results = run_noisy_qaoa(cost_matrix, reps=2, maxiter=100, iterations=100)\n"
          ]
        },
        {
          "name": "stdout",
          "output_type": "stream",
          "text": [
            "\n",
            "=== Iteration 89/100 ===\n"
          ]
        },
        {
          "name": "stderr",
          "output_type": "stream",
          "text": [
            "/tmp/ipython-input-769611944.py:80: DeprecationWarning: Sampler has been deprecated as of Aer 0.15, please use SamplerV2 instead.\n",
            "  results = run_noisy_qaoa(cost_matrix, reps=2, maxiter=100, iterations=100)\n"
          ]
        },
        {
          "name": "stdout",
          "output_type": "stream",
          "text": [
            "\n",
            "=== Iteration 90/100 ===\n"
          ]
        },
        {
          "name": "stderr",
          "output_type": "stream",
          "text": [
            "/tmp/ipython-input-769611944.py:80: DeprecationWarning: Sampler has been deprecated as of Aer 0.15, please use SamplerV2 instead.\n",
            "  results = run_noisy_qaoa(cost_matrix, reps=2, maxiter=100, iterations=100)\n"
          ]
        },
        {
          "name": "stdout",
          "output_type": "stream",
          "text": [
            "\n",
            "=== Iteration 91/100 ===\n"
          ]
        },
        {
          "name": "stderr",
          "output_type": "stream",
          "text": [
            "/tmp/ipython-input-769611944.py:80: DeprecationWarning: Sampler has been deprecated as of Aer 0.15, please use SamplerV2 instead.\n",
            "  results = run_noisy_qaoa(cost_matrix, reps=2, maxiter=100, iterations=100)\n"
          ]
        },
        {
          "name": "stdout",
          "output_type": "stream",
          "text": [
            "\n",
            "=== Iteration 92/100 ===\n"
          ]
        },
        {
          "name": "stderr",
          "output_type": "stream",
          "text": [
            "/tmp/ipython-input-769611944.py:80: DeprecationWarning: Sampler has been deprecated as of Aer 0.15, please use SamplerV2 instead.\n",
            "  results = run_noisy_qaoa(cost_matrix, reps=2, maxiter=100, iterations=100)\n"
          ]
        },
        {
          "name": "stdout",
          "output_type": "stream",
          "text": [
            "\n",
            "=== Iteration 93/100 ===\n"
          ]
        },
        {
          "name": "stderr",
          "output_type": "stream",
          "text": [
            "/tmp/ipython-input-769611944.py:80: DeprecationWarning: Sampler has been deprecated as of Aer 0.15, please use SamplerV2 instead.\n",
            "  results = run_noisy_qaoa(cost_matrix, reps=2, maxiter=100, iterations=100)\n"
          ]
        },
        {
          "name": "stdout",
          "output_type": "stream",
          "text": [
            "\n",
            "=== Iteration 94/100 ===\n"
          ]
        },
        {
          "name": "stderr",
          "output_type": "stream",
          "text": [
            "/tmp/ipython-input-769611944.py:80: DeprecationWarning: Sampler has been deprecated as of Aer 0.15, please use SamplerV2 instead.\n",
            "  results = run_noisy_qaoa(cost_matrix, reps=2, maxiter=100, iterations=100)\n"
          ]
        },
        {
          "name": "stdout",
          "output_type": "stream",
          "text": [
            "\n",
            "=== Iteration 95/100 ===\n"
          ]
        },
        {
          "name": "stderr",
          "output_type": "stream",
          "text": [
            "/tmp/ipython-input-769611944.py:80: DeprecationWarning: Sampler has been deprecated as of Aer 0.15, please use SamplerV2 instead.\n",
            "  results = run_noisy_qaoa(cost_matrix, reps=2, maxiter=100, iterations=100)\n"
          ]
        },
        {
          "name": "stdout",
          "output_type": "stream",
          "text": [
            "\n",
            "=== Iteration 96/100 ===\n"
          ]
        },
        {
          "name": "stderr",
          "output_type": "stream",
          "text": [
            "/tmp/ipython-input-769611944.py:80: DeprecationWarning: Sampler has been deprecated as of Aer 0.15, please use SamplerV2 instead.\n",
            "  results = run_noisy_qaoa(cost_matrix, reps=2, maxiter=100, iterations=100)\n"
          ]
        },
        {
          "name": "stdout",
          "output_type": "stream",
          "text": [
            "\n",
            "=== Iteration 97/100 ===\n"
          ]
        },
        {
          "name": "stderr",
          "output_type": "stream",
          "text": [
            "/tmp/ipython-input-769611944.py:80: DeprecationWarning: Sampler has been deprecated as of Aer 0.15, please use SamplerV2 instead.\n",
            "  results = run_noisy_qaoa(cost_matrix, reps=2, maxiter=100, iterations=100)\n"
          ]
        },
        {
          "name": "stdout",
          "output_type": "stream",
          "text": [
            "\n",
            "=== Iteration 98/100 ===\n"
          ]
        },
        {
          "name": "stderr",
          "output_type": "stream",
          "text": [
            "/tmp/ipython-input-769611944.py:80: DeprecationWarning: Sampler has been deprecated as of Aer 0.15, please use SamplerV2 instead.\n",
            "  results = run_noisy_qaoa(cost_matrix, reps=2, maxiter=100, iterations=100)\n"
          ]
        },
        {
          "name": "stdout",
          "output_type": "stream",
          "text": [
            "\n",
            "=== Iteration 99/100 ===\n"
          ]
        },
        {
          "name": "stderr",
          "output_type": "stream",
          "text": [
            "/tmp/ipython-input-769611944.py:80: DeprecationWarning: Sampler has been deprecated as of Aer 0.15, please use SamplerV2 instead.\n",
            "  results = run_noisy_qaoa(cost_matrix, reps=2, maxiter=100, iterations=100)\n"
          ]
        },
        {
          "name": "stdout",
          "output_type": "stream",
          "text": [
            "\n",
            "=== Iteration 100/100 ===\n"
          ]
        },
        {
          "name": "stderr",
          "output_type": "stream",
          "text": [
            "/tmp/ipython-input-769611944.py:80: DeprecationWarning: Sampler has been deprecated as of Aer 0.15, please use SamplerV2 instead.\n",
            "  results = run_noisy_qaoa(cost_matrix, reps=2, maxiter=100, iterations=100)\n"
          ]
        },
        {
          "data": {
            "image/png": "[encoded data removed]",
            "text/plain": [
              "<Figure size 800x500 with 1 Axes>"
            ]
          },
          "metadata": {},
          "output_type": "display_data"
        },
        {
          "data": {
            "image/png": "[encoded data removed]",
            "text/plain": [
              "<Figure size 800x500 with 1 Axes>"
            ]
          },
          "metadata": {},
          "output_type": "display_data"
        },
        {
          "data": {
            "image/png": "[encoded data removed]",
            "text/plain": [
              "<Figure size 1200x600 with 1 Axes>"
            ]
          },
          "metadata": {},
          "output_type": "display_data"
        },
        {
          "data": {
            "image/png": "[encoded data removed]",
            "text/plain": [
              "<Figure size 1000x500 with 1 Axes>"
            ]
          },
          "metadata": {},
          "output_type": "display_data"
        }
      ],
      "source": [
        "\n",
        "import numpy as np\n",
        "from qiskit_aer import AerSimulator\n",
        "from qiskit_aer.noise import NoiseModel, depolarizing_error\n",
        "from qiskit_aer.primitives import Sampler\n",
        "# from queuebo_qaoa_full_two_trips import QueueBoOptimizer, postprocess_qaoa_counts  # import your class\n",
        "\n",
        "# -------------------------\n",
        "# Setup noisy simulator\n",
        "# -------------------------\n",
        "# Depolarizing noise for 1-qubit and 2-qubit gates\n",
        "noise_model = NoiseModel()\n",
        "error_1q = depolarizing_error(0.01, 1)  # 1% single-qubit depolarizing\n",
        "error_2q = depolarizing_error(0.05, 2)  # 5% two-qubit depolarizing\n",
        "noise_model.add_all_qubit_quantum_error(error_1q, ['rx', 'ry', 'rz', 'h'])\n",
        "noise_model.add_all_qubit_quantum_error(error_2q, ['cx'])\n",
        "\n",
        "# Create noisy simulator\n",
        "simulator = AerSimulator(noise_model=noise_model, shots=1024)\n",
        "\n",
        "# Instantiate Sampler WITHOUT backend\n",
        "# sampler = Sampler()\n",
        "\n",
        "\n",
        "\n",
        "# -------------------------\n",
        "# Run noisy QAOA multiple times\n",
        "# -------------------------\n",
        "def run_noisy_qaoa(cost_matrix, reps=2, maxiter=100, iterations=10):\n",
        "    optimizer = QueueBoOptimizer(cost_matrix)\n",
        "    all_results = []\n",
        "\n",
        "    for itr in range(iterations):\n",
        "        print(f\"\\n=== Iteration {itr + 1}/{iterations} ===\")\n",
        "        # Use your existing QAOA solver but replace Sampler with noisy one\n",
        "        Q = optimizer.build_qubo_two_trips(P_assign=1000.0, P_cap=500.0)\n",
        "        hamiltonian, const = optimizer.qubo_to_ising(Q)\n",
        "\n",
        "        # Create QAOA\n",
        "        from qiskit_algorithms.minimum_eigensolvers import QAOA\n",
        "        from qiskit_algorithms.optimizers import COBYLA\n",
        "\n",
        "        optimizer_algo = COBYLA(maxiter=maxiter)\n",
        "        # sampler = Sampler(backend=simulator)\n",
        "        sampler = Sampler()  # just Sampler()\n",
        "        qaoa = QAOA(sampler=sampler, optimizer=optimizer_algo, reps=reps)\n",
        "        result = qaoa.compute_minimum_eigenvalue(operator=hamiltonian)\n",
        "\n",
        "        # Build ansatz and sample\n",
        "        try:\n",
        "            qc = qaoa.ansatz.assign_parameters(result.optimal_parameters)\n",
        "        except Exception:\n",
        "            qc = qaoa.ansatz.bind_parameters(result.optimal_parameters)\n",
        "\n",
        "        # 3. Run your circuit using the simulator as backend\n",
        "        job = sampler.run([qc], backend=simulator)\n",
        "        qc_counts = job.result().quasi_dists[0]\n",
        "        counts = job.result().quasi_dists[0]\n",
        "\n",
        "        # Postprocess\n",
        "        res = postprocess_qaoa_counts(counts, cost_matrix, optimizer.n_patients, max_stops=3)\n",
        "        all_results.append(res)\n",
        "\n",
        "    return all_results\n",
        "\n",
        "# -------------------------\n",
        "# Demo run\n",
        "# -------------------------\n",
        "if __name__ == \"__main__\":\n",
        "    cost_matrix = np.array([\n",
        "        [0.0, 8.63, 11.5, 9.45, 10.85, 9.67],\n",
        "        [14.19, 0.0, 2.36, 10.92, 9.24, 9.43],\n",
        "        [17.78, 7.75, 0.0, 11.81, 10.12, 10.48],\n",
        "        [11.86, 19.67, 15.66, 0.0, 11.57, 11.54],\n",
        "        [7.34, 12.17, 10.05, 4.07, 0.0, 5.93],\n",
        "        [9.27, 9.4, 12.27, 7.32, 8.72, 0.0]\n",
        "    ])\n",
        "\n",
        "    results = run_noisy_qaoa(cost_matrix, reps=2, maxiter=100, iterations=100)\n",
        "\n"
      ]
    },
    {
      "cell_type": "markdown",
      "metadata": {
        "id": "IEgqxfsL_oQY"
      },
      "source": [
        "# Plot the result of noise\n"
      ]
    },
    {
      "cell_type": "code",
      "execution_count": null,
      "metadata": {
        "colab": {
          "base_uri": "https://localhost:8080/",
          "height": 1000
        },
        "id": "NKONEE9Z_mP1",
        "outputId": "9e85c0ee-ea15-48e8-eb2a-cb0f9288afc8"
      },
      "outputs": [
        {
          "data": {
            "image/png": "[encoded data removed]",
            "text/plain": [
              "<Figure size 800x500 with 1 Axes>"
            ]
          },
          "metadata": {},
          "output_type": "display_data"
        },
        {
          "data": {
            "image/png": "[encoded data removed]",
            "text/plain": [
              "<Figure size 3000x1000 with 1 Axes>"
            ]
          },
          "metadata": {},
          "output_type": "display_data"
        },
        {
          "data": {
            "image/png": "[encoded data removed]",
            "text/plain": [
              "<Figure size 1200x600 with 1 Axes>"
            ]
          },
          "metadata": {},
          "output_type": "display_data"
        },
        {
          "data": {
            "image/png": "[encoded data removed]",
            "text/plain": [
              "<Figure size 1000x500 with 1 Axes>"
            ]
          },
          "metadata": {},
          "output_type": "display_data"
        }
      ],
      "source": [
        "import matplotlib.pyplot as plt\n",
        "\n",
        "# -------------------------\n",
        "# Plot total costs in km\n",
        "# -------------------------\n",
        "total_costs = [r[\"total_cost\"] for r in results]\n",
        "iterations = list(range(1, len(total_costs) + 1))\n",
        "\n",
        "plt.figure(figsize=(8,5))\n",
        "plt.plot(iterations, total_costs, marker='o', linestyle='-', color='b')\n",
        "plt.xlabel(\"Iteration\")\n",
        "plt.ylabel(\"Total Two-Trip Cost (km)\")\n",
        "plt.title(\"Noisy QAOA Simulation: Total Route Costs over Iterations\")\n",
        "plt.grid(True)\n",
        "plt.show()\n",
        "\n",
        "import matplotlib.pyplot as plt\n",
        "\n",
        "# iterations = list(range(1, len(total_costs) + 1))  # x-axis: iteration numbers\n",
        "\n",
        "plt.figure(figsize=(30,10))\n",
        "plt.bar(iterations, total_costs, color='skyblue', edgecolor='black', alpha=0.8)\n",
        "plt.xlabel(\"Iteration\")\n",
        "plt.ylabel(\"Total Two-Trip Cost (km)\")\n",
        "plt.title(\"Noisy QAOA: Total Route Costs over Iterations\")\n",
        "plt.xticks(iterations)  # show iteration numbers on x-axis\n",
        "plt.grid(axis='y', linestyle='--', alpha=0.7)\n",
        "plt.show()\n",
        "\n",
        "\n",
        "from collections import Counter\n",
        "\n",
        "# `all_results` is the list of results from 10 iterations:\n",
        "# each element has res[\"bitstring\"]\n",
        "\n",
        "bitstrings = [r[\"bitstring\"] for r in results]  # collect all bitstrings\n",
        "counts = Counter(bitstrings)                     # count frequency of each bitstring\n",
        "\n",
        "# Sort by frequency for better plotting\n",
        "sorted_items = sorted(counts.items(), key=lambda x: x[1], reverse=True)\n",
        "labels, frequencies = zip(*sorted_items)\n",
        "\n",
        "plt.figure(figsize=(12,6))\n",
        "plt.bar(labels, frequencies, color='skyblue', edgecolor='black')\n",
        "plt.xlabel(\"Bitstring (Trip Assignments)\")\n",
        "plt.ylabel(\"Number of Occurrences\")\n",
        "plt.title(\"Frequency of Each Bitstring Across Noisy QAOA Iterations\")\n",
        "plt.xticks(rotation=90)  # rotate labels to fit\n",
        "plt.grid(axis='y', linestyle='--', alpha=0.7)\n",
        "plt.show()\n",
        "\n",
        "# total_costs = [r[\"total_cost\"] for r in results]\n",
        "\n",
        "# Count frequency of each total cost (round to avoid tiny float differences)\n",
        "rounded_costs = [round(c, 2) for c in total_costs]  # round to 2 decimals\n",
        "counts = Counter(rounded_costs)\n",
        "\n",
        "# Sort by cost for plotting\n",
        "sorted_items = sorted(counts.items())\n",
        "cost_values, frequencies = zip(*sorted_items)\n",
        "\n",
        "plt.figure(figsize=(10,5))\n",
        "plt.bar([str(c) for c in cost_values], frequencies, color='skyblue', edgecolor='black')\n",
        "plt.xlabel(\"Total Two-Trip Cost (km)\")\n",
        "plt.ylabel(\"Number of Occurrences\")\n",
        "plt.title(\"Frequency of Total Cost Across Noisy QAOA Iterations\")\n",
        "plt.xticks(rotation=45)\n",
        "plt.grid(axis='y', linestyle='--', alpha=0.7)\n",
        "plt.show()"
      ]
    },
    {
      "cell_type": "code",
      "execution_count": null,
      "metadata": {
        "colab": {
          "base_uri": "https://localhost:8080/",
          "height": 1000
        },
        "collapsed": true,
        "id": "JseLv8Bfwh_7",
        "outputId": "2226fc6c-d0e8-4169-8053-d588d3566c7f"
      },
      "outputs": [
        {
          "name": "stderr",
          "output_type": "stream",
          "text": [
            "/tmp/ipython-input-482639126.py:16: DeprecationWarning: Sampler has been deprecated as of Aer 0.15, please use SamplerV2 instead.\n",
            "  queuebo = QueueBo(cost_matrix)\n"
          ]
        },
        {
          "name": "stdout",
          "output_type": "stream",
          "text": [
            "Running QAOA 100 times...\n",
            "Optimal value (energy): 5.0\n",
            "Run 1/100 failed: 'str' object has no attribute 'items'\n",
            "Optimal value (energy): 5.0\n",
            "Run 2/100 failed: 'str' object has no attribute 'items'\n",
            "Optimal value (energy): 5.0\n",
            "Run 3/100 failed: 'str' object has no attribute 'items'\n",
            "Optimal value (energy): 5.0\n",
            "Run 4/100 failed: 'str' object has no attribute 'items'\n",
            "Optimal value (energy): 5.0\n",
            "Run 5/100 failed: 'str' object has no attribute 'items'\n",
            "Optimal value (energy): 5.0\n",
            "Run 6/100 failed: 'str' object has no attribute 'items'\n",
            "Optimal value (energy): 5.0\n",
            "Run 7/100 failed: 'str' object has no attribute 'items'\n",
            "Optimal value (energy): 5.0\n",
            "Run 8/100 failed: 'str' object has no attribute 'items'\n",
            "Optimal value (energy): 5.0\n",
            "Run 9/100 failed: 'str' object has no attribute 'items'\n",
            "Optimal value (energy): 5.0\n",
            "Run 10/100 failed: 'str' object has no attribute 'items'\n",
            "Optimal value (energy): 5.0\n",
            "Run 11/100 failed: 'str' object has no attribute 'items'\n",
            "Optimal value (energy): 5.0\n",
            "Run 12/100 failed: 'str' object has no attribute 'items'\n",
            "Optimal value (energy): 5.0\n",
            "Run 13/100 failed: 'str' object has no attribute 'items'\n",
            "Optimal value (energy): 5.0\n",
            "Run 14/100 failed: 'str' object has no attribute 'items'\n",
            "Optimal value (energy): 5.0\n",
            "Run 15/100 failed: 'str' object has no attribute 'items'\n",
            "Optimal value (energy): 5.0\n",
            "Run 16/100 failed: 'str' object has no attribute 'items'\n",
            "Optimal value (energy): 5.0\n",
            "Run 17/100 failed: 'str' object has no attribute 'items'\n",
            "Optimal value (energy): 5.0\n",
            "Run 18/100 failed: 'str' object has no attribute 'items'\n",
            "Optimal value (energy): 5.0\n",
            "Run 19/100 failed: 'str' object has no attribute 'items'\n",
            "Optimal value (energy): 5.0\n",
            "Run 20/100 failed: 'str' object has no attribute 'items'\n",
            "Optimal value (energy): 5.0\n",
            "Run 21/100 failed: 'str' object has no attribute 'items'\n",
            "Optimal value (energy): 5.0\n",
            "Run 22/100 failed: 'str' object has no attribute 'items'\n",
            "Optimal value (energy): 5.0\n",
            "Run 23/100 failed: 'str' object has no attribute 'items'\n",
            "Optimal value (energy): 5.0\n",
            "Run 24/100 failed: 'str' object has no attribute 'items'\n",
            "Optimal value (energy): 5.0\n",
            "Run 25/100 failed: 'str' object has no attribute 'items'\n",
            "Optimal value (energy): 5.0\n",
            "Run 26/100 failed: 'str' object has no attribute 'items'\n",
            "Optimal value (energy): 5.0\n",
            "Run 27/100 failed: 'str' object has no attribute 'items'\n",
            "Optimal value (energy): 5.0\n",
            "Run 28/100 failed: 'str' object has no attribute 'items'\n",
            "Optimal value (energy): 5.0\n",
            "Run 29/100 failed: 'str' object has no attribute 'items'\n",
            "Optimal value (energy): 5.0\n",
            "Run 30/100 failed: 'str' object has no attribute 'items'\n",
            "Optimal value (energy): 5.0\n",
            "Run 31/100 failed: 'str' object has no attribute 'items'\n",
            "Optimal value (energy): 5.0\n",
            "Run 32/100 failed: 'str' object has no attribute 'items'\n",
            "Optimal value (energy): 5.0\n",
            "Run 33/100 failed: 'str' object has no attribute 'items'\n",
            "Optimal value (energy): 5.0\n",
            "Run 34/100 failed: 'str' object has no attribute 'items'\n",
            "Optimal value (energy): 5.0\n",
            "Run 35/100 failed: 'str' object has no attribute 'items'\n",
            "Optimal value (energy): 5.0\n",
            "Run 36/100 failed: 'str' object has no attribute 'items'\n",
            "Optimal value (energy): 5.0\n",
            "Run 37/100 failed: 'str' object has no attribute 'items'\n",
            "Optimal value (energy): 5.0\n",
            "Run 38/100 failed: 'str' object has no attribute 'items'\n",
            "Optimal value (energy): 5.0\n",
            "Run 39/100 failed: 'str' object has no attribute 'items'\n",
            "Optimal value (energy): 5.0\n",
            "Run 40/100 failed: 'str' object has no attribute 'items'\n",
            "Optimal value (energy): 5.0\n",
            "Run 41/100 failed: 'str' object has no attribute 'items'\n",
            "Optimal value (energy): 5.0\n",
            "Run 42/100 failed: 'str' object has no attribute 'items'\n",
            "Optimal value (energy): 5.0\n",
            "Run 43/100 failed: 'str' object has no attribute 'items'\n",
            "Optimal value (energy): 5.0\n",
            "Run 44/100 failed: 'str' object has no attribute 'items'\n",
            "Optimal value (energy): 5.0\n",
            "Run 45/100 failed: 'str' object has no attribute 'items'\n",
            "Optimal value (energy): 5.0\n",
            "Run 46/100 failed: 'str' object has no attribute 'items'\n",
            "Optimal value (energy): 5.0\n",
            "Run 47/100 failed: 'str' object has no attribute 'items'\n",
            "Optimal value (energy): 5.0\n",
            "Run 48/100 failed: 'str' object has no attribute 'items'\n",
            "Optimal value (energy): 5.0\n",
            "Run 49/100 failed: 'str' object has no attribute 'items'\n",
            "Optimal value (energy): 5.0\n",
            "Run 50/100 failed: 'str' object has no attribute 'items'\n",
            "Optimal value (energy): 5.0\n",
            "Run 51/100 failed: 'str' object has no attribute 'items'\n",
            "Optimal value (energy): 5.0\n",
            "Run 52/100 failed: 'str' object has no attribute 'items'\n",
            "Optimal value (energy): 5.0\n",
            "Run 53/100 failed: 'str' object has no attribute 'items'\n",
            "Optimal value (energy): 5.0\n",
            "Run 54/100 failed: 'str' object has no attribute 'items'\n",
            "Optimal value (energy): 5.0\n",
            "Run 55/100 failed: 'str' object has no attribute 'items'\n",
            "Optimal value (energy): 5.0\n",
            "Run 56/100 failed: 'str' object has no attribute 'items'\n",
            "Optimal value (energy): 5.0\n",
            "Run 57/100 failed: 'str' object has no attribute 'items'\n",
            "Optimal value (energy): 5.0\n",
            "Run 58/100 failed: 'str' object has no attribute 'items'\n",
            "Optimal value (energy): 5.0\n",
            "Run 59/100 failed: 'str' object has no attribute 'items'\n",
            "Optimal value (energy): 5.0\n",
            "Run 60/100 failed: 'str' object has no attribute 'items'\n",
            "Optimal value (energy): 5.0\n",
            "Run 61/100 failed: 'str' object has no attribute 'items'\n",
            "Optimal value (energy): 5.0\n",
            "Run 62/100 failed: 'str' object has no attribute 'items'\n",
            "Optimal value (energy): 5.0\n",
            "Run 63/100 failed: 'str' object has no attribute 'items'\n",
            "Optimal value (energy): 5.0\n",
            "Run 64/100 failed: 'str' object has no attribute 'items'\n",
            "Optimal value (energy): 5.0\n",
            "Run 65/100 failed: 'str' object has no attribute 'items'\n",
            "Optimal value (energy): 5.0\n",
            "Run 66/100 failed: 'str' object has no attribute 'items'\n",
            "Optimal value (energy): 5.0\n",
            "Run 67/100 failed: 'str' object has no attribute 'items'\n",
            "Optimal value (energy): 5.0\n",
            "Run 68/100 failed: 'str' object has no attribute 'items'\n",
            "Optimal value (energy): 5.0\n",
            "Run 69/100 failed: 'str' object has no attribute 'items'\n",
            "Optimal value (energy): 5.0\n",
            "Run 70/100 failed: 'str' object has no attribute 'items'\n",
            "Optimal value (energy): 5.0\n",
            "Run 71/100 failed: 'str' object has no attribute 'items'\n",
            "Optimal value (energy): 5.0\n",
            "Run 72/100 failed: 'str' object has no attribute 'items'\n",
            "Optimal value (energy): 5.0\n",
            "Run 73/100 failed: 'str' object has no attribute 'items'\n",
            "Optimal value (energy): 5.0\n",
            "Run 74/100 failed: 'str' object has no attribute 'items'\n",
            "Optimal value (energy): 5.0\n",
            "Run 75/100 failed: 'str' object has no attribute 'items'\n",
            "Optimal value (energy): 5.0\n",
            "Run 76/100 failed: 'str' object has no attribute 'items'\n",
            "Optimal value (energy): 5.0\n",
            "Run 77/100 failed: 'str' object has no attribute 'items'\n",
            "Optimal value (energy): 5.0\n",
            "Run 78/100 failed: 'str' object has no attribute 'items'\n",
            "Optimal value (energy): 5.0\n",
            "Run 79/100 failed: 'str' object has no attribute 'items'\n",
            "Optimal value (energy): 5.0\n",
            "Run 80/100 failed: 'str' object has no attribute 'items'\n",
            "Optimal value (energy): 5.0\n",
            "Run 81/100 failed: 'str' object has no attribute 'items'\n",
            "Optimal value (energy): 5.0\n",
            "Run 82/100 failed: 'str' object has no attribute 'items'\n",
            "Optimal value (energy): 5.0\n",
            "Run 83/100 failed: 'str' object has no attribute 'items'\n",
            "Optimal value (energy): 5.0\n",
            "Run 84/100 failed: 'str' object has no attribute 'items'\n",
            "Optimal value (energy): 5.0\n",
            "Run 85/100 failed: 'str' object has no attribute 'items'\n",
            "Optimal value (energy): 5.0\n",
            "Run 86/100 failed: 'str' object has no attribute 'items'\n",
            "Optimal value (energy): 5.0\n",
            "Run 87/100 failed: 'str' object has no attribute 'items'\n",
            "Optimal value (energy): 5.0\n",
            "Run 88/100 failed: 'str' object has no attribute 'items'\n",
            "Optimal value (energy): 5.0\n",
            "Run 89/100 failed: 'str' object has no attribute 'items'\n",
            "Optimal value (energy): 5.0\n",
            "Run 90/100 failed: 'str' object has no attribute 'items'\n",
            "Optimal value (energy): 5.0\n",
            "Run 91/100 failed: 'str' object has no attribute 'items'\n",
            "Optimal value (energy): 5.0\n",
            "Run 92/100 failed: 'str' object has no attribute 'items'\n",
            "Optimal value (energy): 5.0\n",
            "Run 93/100 failed: 'str' object has no attribute 'items'\n",
            "Optimal value (energy): 5.0\n",
            "Run 94/100 failed: 'str' object has no attribute 'items'\n",
            "Optimal value (energy): 5.0\n",
            "Run 95/100 failed: 'str' object has no attribute 'items'\n",
            "Optimal value (energy): 5.0\n",
            "Run 96/100 failed: 'str' object has no attribute 'items'\n",
            "Optimal value (energy): 5.0\n",
            "Run 97/100 failed: 'str' object has no attribute 'items'\n",
            "Optimal value (energy): 5.0\n",
            "Run 98/100 failed: 'str' object has no attribute 'items'\n",
            "Optimal value (energy): 5.0\n",
            "Run 99/100 failed: 'str' object has no attribute 'items'\n",
            "Optimal value (energy): 5.0\n",
            "Run 100/100 failed: 'str' object has no attribute 'items'\n"
          ]
        },
        {
          "data": {
            "image/png": "[encoded data removed]",
            "text/plain": [
              "<Figure size 800x500 with 1 Axes>"
            ]
          },
          "metadata": {},
          "output_type": "display_data"
        }
      ],
      "source": [
        "import numpy as np\n",
        "import matplotlib.pyplot as plt\n",
        "\n",
        "# Example usage\n",
        "if __name__ == \"__main__\":\n",
        "    # Your cost matrix here (converted to numpy array)\n",
        "    cost_matrix = np.array([\n",
        "        [0.0, 8.63, 11.5, 9.45, 10.85, 9.67],\n",
        "        [14.19, 0.0, 2.36, 10.92, 9.24, 9.43],\n",
        "        [17.78, 7.75, 0.0, 11.81, 10.12, 10.48],\n",
        "        [11.86, 19.67, 15.66, 0.0, 11.57, 11.54],\n",
        "        [7.34, 12.17, 10.05, 4.07, 0.0, 5.93],\n",
        "        [9.27, 9.4, 12.27, 7.32, 8.72, 0.0]\n",
        "    ])\n",
        "\n",
        "    queuebo = QueueBo(cost_matrix)\n",
        "\n",
        "    print(\"Running QAOA 100 times...\")\n",
        "    costs = run_multiple_qaoa(queuebo, runs=100)\n",
        "\n",
        "    # Plot histogram of results\n",
        "    plt.figure(figsize=(8,5))\n",
        "    plt.hist(costs, bins=15, color=\"skyblue\", edgecolor=\"black\")\n",
        "    plt.xlabel(\"Total Cost\")\n",
        "    plt.ylabel(\"Frequency\")\n",
        "    plt.title(\"QAOA Solution Distribution (100 runs)\")\n",
        "    plt.grid(alpha=0.3)\n",
        "    plt.show()\n"
      ]
    },
    {
      "cell_type": "code",
      "execution_count": null,
      "metadata": {
        "colab": {
          "base_uri": "https://localhost:8080/"
        },
        "id": "dcmedBjIHKgs",
        "outputId": "85f40eed-076a-4bcf-8e2c-f0a1ec6689ce"
      },
      "outputs": [
        {
          "name": "stdout",
          "output_type": "stream",
          "text": [
            "1.2.4\n"
          ]
        }
      ],
      "source": [
        "import qiskit\n",
        "print(qiskit.__version__)\n"
      ]
    },
    {
      "cell_type": "code",
      "execution_count": null,
      "metadata": {
        "id": "0Qw7hsxAG2sQ"
      },
      "outputs": [],
      "source": []
    }
  ],
  "metadata": {
    "accelerator": "GPU",
    "colab": {
      "gpuType": "T4",
      "provenance": []
    },
    "kernelspec": {
      "display_name": "Python 3",
      "name": "python3"
    },
    "language_info": {
      "name": "python"
    }
  },
  "nbformat": 4,
  "nbformat_minor": 0
}
