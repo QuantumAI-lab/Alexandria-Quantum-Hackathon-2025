{
  "cells": [
    {
      "cell_type": "code",
      "execution_count": null,
      "metadata": {
        "colab": {
          "base_uri": "https://localhost:8080/"
        },
        "id": "7RpG6ntyLJpl",
        "outputId": "c5516757-0faa-42af-a9b8-a13347fe7e54"
      },
      "outputs": [
        {
          "output_type": "stream",
          "name": "stdout",
          "text": [
            "Mounted at /content/drive\n"
          ]
        }
      ],
      "source": [
        "from google.colab import drive\n",
        "\n",
        "drive.mount('/content/drive')\n"
      ]
    },
    {
      "cell_type": "code",
      "execution_count": null,
      "metadata": {
        "colab": {
          "base_uri": "https://localhost:8080/"
        },
        "id": "GyRdct3LLOo_",
        "outputId": "99f547ca-15e5-47e5-ca94-9a19b065d864"
      },
      "outputs": [
        {
          "output_type": "stream",
          "name": "stdout",
          "text": [
            "Collecting qiskit\n",
            "  Downloading qiskit-2.1.2-cp39-abi3-manylinux_2_17_x86_64.manylinux2014_x86_64.whl.metadata (12 kB)\n",
            "Collecting qiskit-machine-learning\n",
            "  Downloading qiskit_machine_learning-0.8.3-py3-none-any.whl.metadata (13 kB)\n",
            "Collecting qiskit_algorithms\n",
            "  Downloading qiskit_algorithms-0.4.0-py3-none-any.whl.metadata (4.7 kB)\n",
            "Collecting qiskit-aer\n",
            "  Downloading qiskit_aer-0.17.1-cp312-cp312-manylinux_2_17_x86_64.manylinux2014_x86_64.whl.metadata (8.3 kB)\n",
            "Requirement already satisfied: pandas in /usr/local/lib/python3.12/dist-packages (2.2.2)\n",
            "Requirement already satisfied: scikit-learn in /usr/local/lib/python3.12/dist-packages (1.6.1)\n",
            "Requirement already satisfied: matplotlib in /usr/local/lib/python3.12/dist-packages (3.10.0)\n",
            "Collecting rustworkx>=0.15.0 (from qiskit)\n",
            "  Downloading rustworkx-0.17.1-cp39-abi3-manylinux_2_17_x86_64.manylinux2014_x86_64.whl.metadata (10 kB)\n",
            "Requirement already satisfied: numpy<3,>=1.17 in /usr/local/lib/python3.12/dist-packages (from qiskit) (2.0.2)\n",
            "Requirement already satisfied: scipy>=1.5 in /usr/local/lib/python3.12/dist-packages (from qiskit) (1.16.1)\n",
            "Requirement already satisfied: dill>=0.3 in /usr/local/lib/python3.12/dist-packages (from qiskit) (0.3.8)\n",
            "Collecting stevedore>=3.0.0 (from qiskit)\n",
            "  Downloading stevedore-5.5.0-py3-none-any.whl.metadata (2.2 kB)\n",
            "Requirement already satisfied: typing-extensions in /usr/local/lib/python3.12/dist-packages (from qiskit) (4.15.0)\n",
            "Collecting qiskit\n",
            "  Downloading qiskit-1.4.4-cp39-abi3-manylinux_2_17_x86_64.manylinux2014_x86_64.whl.metadata (12 kB)\n",
            "Requirement already satisfied: setuptools>=40.1 in /usr/local/lib/python3.12/dist-packages (from qiskit-machine-learning) (75.2.0)\n",
            "Requirement already satisfied: sympy>=1.3 in /usr/local/lib/python3.12/dist-packages (from qiskit) (1.13.3)\n",
            "Requirement already satisfied: python-dateutil>=2.8.0 in /usr/local/lib/python3.12/dist-packages (from qiskit) (2.9.0.post0)\n",
            "Collecting symengine<0.14,>=0.11 (from qiskit)\n",
            "  Downloading symengine-0.13.0-cp312-cp312-manylinux_2_17_x86_64.manylinux2014_x86_64.whl.metadata (1.2 kB)\n",
            "Requirement already satisfied: psutil>=5 in /usr/local/lib/python3.12/dist-packages (from qiskit-aer) (5.9.5)\n",
            "Requirement already satisfied: pytz>=2020.1 in /usr/local/lib/python3.12/dist-packages (from pandas) (2025.2)\n",
            "Requirement already satisfied: tzdata>=2022.7 in /usr/local/lib/python3.12/dist-packages (from pandas) (2025.2)\n",
            "Requirement already satisfied: joblib>=1.2.0 in /usr/local/lib/python3.12/dist-packages (from scikit-learn) (1.5.1)\n",
            "Requirement already satisfied: threadpoolctl>=3.1.0 in /usr/local/lib/python3.12/dist-packages (from scikit-learn) (3.6.0)\n",
            "Requirement already satisfied: contourpy>=1.0.1 in /usr/local/lib/python3.12/dist-packages (from matplotlib) (1.3.3)\n",
            "Requirement already satisfied: cycler>=0.10 in /usr/local/lib/python3.12/dist-packages (from matplotlib) (0.12.1)\n",
            "Requirement already satisfied: fonttools>=4.22.0 in /usr/local/lib/python3.12/dist-packages (from matplotlib) (4.59.1)\n",
            "Requirement already satisfied: kiwisolver>=1.3.1 in /usr/local/lib/python3.12/dist-packages (from matplotlib) (1.4.9)\n",
            "Requirement already satisfied: packaging>=20.0 in /usr/local/lib/python3.12/dist-packages (from matplotlib) (25.0)\n",
            "Requirement already satisfied: pillow>=8 in /usr/local/lib/python3.12/dist-packages (from matplotlib) (11.3.0)\n",
            "Requirement already satisfied: pyparsing>=2.3.1 in /usr/local/lib/python3.12/dist-packages (from matplotlib) (3.2.3)\n",
            "Requirement already satisfied: six>=1.5 in /usr/local/lib/python3.12/dist-packages (from python-dateutil>=2.8.0->qiskit) (1.17.0)\n",
            "Requirement already satisfied: mpmath<1.4,>=1.1.0 in /usr/local/lib/python3.12/dist-packages (from sympy>=1.3->qiskit) (1.3.0)\n",
            "Downloading qiskit_machine_learning-0.8.3-py3-none-any.whl (231 kB)\n",
            "\u001b[2K   \u001b[90m━━━━━━━━━━━━━━━━━━━━━━━━━━━━━━━━━━━━━━━━\u001b[0m \u001b[32m231.9/231.9 kB\u001b[0m \u001b[31m15.2 MB/s\u001b[0m eta \u001b[36m0:00:00\u001b[0m\n",
            "\u001b[?25hDownloading qiskit-1.4.4-cp39-abi3-manylinux_2_17_x86_64.manylinux2014_x86_64.whl (6.8 MB)\n",
            "\u001b[2K   \u001b[90m━━━━━━━━━━━━━━━━━━━━━━━━━━━━━━━━━━━━━━━━\u001b[0m \u001b[32m6.8/6.8 MB\u001b[0m \u001b[31m94.1 MB/s\u001b[0m eta \u001b[36m0:00:00\u001b[0m\n",
            "\u001b[?25hDownloading qiskit_algorithms-0.4.0-py3-none-any.whl (327 kB)\n",
            "\u001b[2K   \u001b[90m━━━━━━━━━━━━━━━━━━━━━━━━━━━━━━━━━━━━━━━━\u001b[0m \u001b[32m327.8/327.8 kB\u001b[0m \u001b[31m29.1 MB/s\u001b[0m eta \u001b[36m0:00:00\u001b[0m\n",
            "\u001b[?25hDownloading qiskit_aer-0.17.1-cp312-cp312-manylinux_2_17_x86_64.manylinux2014_x86_64.whl (12.4 MB)\n",
            "\u001b[2K   \u001b[90m━━━━━━━━━━━━━━━━━━━━━━━━━━━━━━━━━━━━━━━━\u001b[0m \u001b[32m12.4/12.4 MB\u001b[0m \u001b[31m77.3 MB/s\u001b[0m eta \u001b[36m0:00:00\u001b[0m\n",
            "\u001b[?25hDownloading rustworkx-0.17.1-cp39-abi3-manylinux_2_17_x86_64.manylinux2014_x86_64.whl (2.2 MB)\n",
            "\u001b[2K   \u001b[90m━━━━━━━━━━━━━━━━━━━━━━━━━━━━━━━━━━━━━━━━\u001b[0m \u001b[32m2.2/2.2 MB\u001b[0m \u001b[31m95.4 MB/s\u001b[0m eta \u001b[36m0:00:00\u001b[0m\n",
            "\u001b[?25hDownloading stevedore-5.5.0-py3-none-any.whl (49 kB)\n",
            "\u001b[2K   \u001b[90m━━━━━━━━━━━━━━━━━━━━━━━━━━━━━━━━━━━━━━━━\u001b[0m \u001b[32m49.5/49.5 kB\u001b[0m \u001b[31m5.5 MB/s\u001b[0m eta \u001b[36m0:00:00\u001b[0m\n",
            "\u001b[?25hDownloading symengine-0.13.0-cp312-cp312-manylinux_2_17_x86_64.manylinux2014_x86_64.whl (49.6 MB)\n",
            "\u001b[2K   \u001b[90m━━━━━━━━━━━━━━━━━━━━━━━━━━━━━━━━━━━━━━━━\u001b[0m \u001b[32m49.6/49.6 MB\u001b[0m \u001b[31m16.5 MB/s\u001b[0m eta \u001b[36m0:00:00\u001b[0m\n",
            "\u001b[?25hInstalling collected packages: symengine, stevedore, rustworkx, qiskit, qiskit-machine-learning, qiskit_algorithms, qiskit-aer\n",
            "Successfully installed qiskit-1.4.4 qiskit-aer-0.17.1 qiskit-machine-learning-0.8.3 qiskit_algorithms-0.4.0 rustworkx-0.17.1 stevedore-5.5.0 symengine-0.13.0\n"
          ]
        }
      ],
      "source": [
        "!pip install qiskit qiskit-machine-learning qiskit_algorithms qiskit-aer pandas scikit-learn matplotlib"
      ]
    },
    {
      "cell_type": "code",
      "execution_count": null,
      "metadata": {
        "id": "IVTRvgIhLhOM"
      },
      "outputs": [],
      "source": [
        "import numpy as np\n",
        "import pandas as pd\n",
        "from sklearn.model_selection import train_test_split\n",
        "from sklearn.preprocessing import StandardScaler\n",
        "from sklearn.decomposition import PCA\n",
        "from sklearn.metrics import accuracy_score\n",
        "from qiskit.circuit.library import ZZFeatureMap, ZFeatureMap, RealAmplitudes, EfficientSU2\n",
        "from qiskit_machine_learning.algorithms import VQC\n",
        "from qiskit_algorithms.optimizers import COBYLA, SPSA,ADAM\n",
        "from qiskit_aer import AerSimulator\n",
        "from qiskit_aer.noise import NoiseModel, depolarizing_error\n",
        "from qiskit_aer.primitives import Sampler\n",
        "import matplotlib.pyplot as plt\n",
        "from IPython.display import clear_output\n"
      ]
    },
    {
      "cell_type": "code",
      "execution_count": null,
      "metadata": {
        "id": "HP7S-ApxLoM0"
      },
      "outputs": [],
      "source": [
        "def callback_graph(weights, obj_func_eval):\n",
        "    clear_output(wait=True)\n",
        "    objective_func_vals.append(obj_func_eval)\n",
        "    plt.title(\"Objective function value against Iteration\")\n",
        "    plt.xlabel(\"Iteration\")\n",
        "    plt.ylabel(\"Objective function value\")\n",
        "    plt.plot(range(len(objective_func_vals)), objective_func_vals)\n",
        "    plt.show()\n"
      ]
    },
    {
      "cell_type": "code",
      "execution_count": null,
      "metadata": {
        "id": "I3fB58A8MR3t"
      },
      "outputs": [],
      "source": [
        "file_path = 'pd_speech_features.csv'"
      ]
    },
    {
      "cell_type": "code",
      "execution_count": null,
      "metadata": {
        "colab": {
          "base_uri": "https://localhost:8080/"
        },
        "id": "oPxhzhC4MW6f",
        "outputId": "918c4aa0-5efd-4ae8-a131-83cf9875d8e3"
      },
      "outputs": [
        {
          "output_type": "stream",
          "name": "stdout",
          "text": [
            "(756, 755)\n",
            "   id  gender      PPE      DFA     RPDE  numPulses  numPeriodsPulses  \\\n",
            "0   0       1  0.85247  0.71826  0.57227        240               239   \n",
            "1   0       1  0.76686  0.69481  0.53966        234               233   \n",
            "2   0       1  0.85083  0.67604  0.58982        232               231   \n",
            "3   1       0  0.41121  0.79672  0.59257        178               177   \n",
            "4   1       0  0.32790  0.79782  0.53028        236               235   \n",
            "\n",
            "   meanPeriodPulses  stdDevPeriodPulses  locPctJitter  ...  \\\n",
            "0          0.008064            0.000087       0.00218  ...   \n",
            "1          0.008258            0.000073       0.00195  ...   \n",
            "2          0.008340            0.000060       0.00176  ...   \n",
            "3          0.010858            0.000183       0.00419  ...   \n",
            "4          0.008162            0.002669       0.00535  ...   \n",
            "\n",
            "   tqwt_kurtosisValue_dec_28  tqwt_kurtosisValue_dec_29  \\\n",
            "0                     1.5620                     2.6445   \n",
            "1                     1.5589                     3.6107   \n",
            "2                     1.5643                     2.3308   \n",
            "3                     3.7805                     3.5664   \n",
            "4                     6.1727                     5.8416   \n",
            "\n",
            "   tqwt_kurtosisValue_dec_30  tqwt_kurtosisValue_dec_31  \\\n",
            "0                     3.8686                     4.2105   \n",
            "1                    23.5155                    14.1962   \n",
            "2                     9.4959                    10.7458   \n",
            "3                     5.2558                    14.0403   \n",
            "4                     6.0805                     5.7621   \n",
            "\n",
            "   tqwt_kurtosisValue_dec_32  tqwt_kurtosisValue_dec_33  \\\n",
            "0                     5.1221                     4.4625   \n",
            "1                    11.0261                     9.5082   \n",
            "2                    11.0177                     4.8066   \n",
            "3                     4.2235                     4.6857   \n",
            "4                     7.7817                    11.6891   \n",
            "\n",
            "   tqwt_kurtosisValue_dec_34  tqwt_kurtosisValue_dec_35  \\\n",
            "0                     2.6202                     3.0004   \n",
            "1                     6.5245                     6.3431   \n",
            "2                     2.9199                     3.1495   \n",
            "3                     4.8460                     6.2650   \n",
            "4                     8.2103                     5.0559   \n",
            "\n",
            "   tqwt_kurtosisValue_dec_36  class  \n",
            "0                    18.9405      1  \n",
            "1                    45.1780      1  \n",
            "2                     4.7666      1  \n",
            "3                     4.0603      1  \n",
            "4                     6.1164      1  \n",
            "\n",
            "[5 rows x 755 columns]\n"
          ]
        }
      ],
      "source": [
        "data = pd.read_csv(file_path, skiprows=1)\n",
        "print(data.shape)\n",
        "print(data.head())\n"
      ]
    },
    {
      "cell_type": "code",
      "execution_count": null,
      "metadata": {
        "id": "fLzrbwpwMils"
      },
      "outputs": [],
      "source": [
        "X = data.drop(['id', 'class'], axis=1)\n",
        "y = data['class'].values"
      ]
    },
    {
      "cell_type": "code",
      "execution_count": null,
      "metadata": {
        "id": "W1n3wNJXMjyu"
      },
      "outputs": [],
      "source": [
        "scaler = StandardScaler()\n",
        "X_scaled = scaler.fit_transform(X)\n"
      ]
    },
    {
      "cell_type": "code",
      "execution_count": null,
      "metadata": {
        "colab": {
          "base_uri": "https://localhost:8080/"
        },
        "id": "Ik8tmfjzMmRY",
        "outputId": "0ba4bfad-446f-4b55-9e0e-dd8e9bdf6c19"
      },
      "outputs": [
        {
          "output_type": "stream",
          "name": "stdout",
          "text": [
            "Train shape: (604, 753), Val shape: (152, 753)\n"
          ]
        }
      ],
      "source": [
        "#split into train and validation\n",
        "X_train, X_val, y_train, y_val = train_test_split(X_scaled, y, test_size=0.2, random_state=42, stratify=y)\n",
        "\n",
        "print(f\"Train shape: {X_train.shape}, Val shape: {X_val.shape}\")"
      ]
    },
    {
      "cell_type": "code",
      "execution_count": null,
      "metadata": {
        "id": "awkQ42CFMv97"
      },
      "outputs": [],
      "source": [
        "##function to Train vqc with different configurations\n",
        "def train_vqc(num_qubits, feature_map_type, ansatz_type, reps, optimizer_type, add_noise=False):\n",
        "    #dimensionality reduction to num_qubits\n",
        "    pca = PCA(n_components=num_qubits)\n",
        "    X_train_pca = pca.fit_transform(X_train)\n",
        "    X_val_pca = pca.transform(X_val)\n",
        "\n",
        "    #feature map\n",
        "    if feature_map_type == 'ZZ':\n",
        "        feature_map = ZZFeatureMap(feature_dimension=num_qubits, reps=2, entanglement='linear')\n",
        "    elif feature_map_type == 'Z':\n",
        "        feature_map = ZFeatureMap(feature_dimension=num_qubits, reps=2)\n",
        "\n",
        "    #ansatz\n",
        "    if ansatz_type == 'RealAmplitudes':\n",
        "        ansatz = RealAmplitudes(num_qubits=num_qubits, reps=reps)\n",
        "    elif ansatz_type == 'EfficientSU2':\n",
        "        ansatz = EfficientSU2(num_qubits=num_qubits, reps=reps)\n",
        "    elif optimizer_type == 'Adam':\n",
        "         from qiskit.algorithms.optimizers import ADAM\n",
        "         optimizer = ADAM(maxiter=100, lr=0.1)\n",
        "    #optimizer\n",
        "    if optimizer_type == 'COBYLA':\n",
        "        optimizer = COBYLA(maxiter=100)\n",
        "    elif optimizer_type == 'SPSA':\n",
        "        optimizer = SPSA(maxiter=100)\n",
        "\n",
        "\n",
        "    if add_noise:\n",
        "        noise_model = NoiseModel()\n",
        "        dep_error = depolarizing_error(0.01, 1)\n",
        "        noise_model.add_all_qubit_quantum_error(dep_error, ['rx', 'ry', 'rz'])\n",
        "        sampler = Sampler(options={\"noise_model\": noise_model})\n",
        "    else:\n",
        "        sampler = Sampler()\n",
        "\n",
        "    # VQC\n",
        "    global objective_func_vals\n",
        "    objective_func_vals = []\n",
        "    vqc = VQC(\n",
        "        feature_map=feature_map,\n",
        "        ansatz=ansatz,\n",
        "        optimizer=optimizer,\n",
        "        sampler=sampler,\n",
        "        callback=callback_graph\n",
        "    )\n",
        "\n",
        "    vqc.fit(X_train_pca, y_train)\n",
        "    y_pred = vqc.predict(X_val_pca)\n",
        "    acc = accuracy_score(y_val, y_pred)\n",
        "\n",
        "    qc = feature_map.compose(ansatz).decompose()\n",
        "    num_params = ansatz.num_parameters\n",
        "    depth = qc.depth()\n",
        "    qubits = qc.num_qubits\n",
        "\n",
        "    print(f\"Config: Qubits={num_qubits}, FM={feature_map_type}, Ansatz={ansatz_type}, Reps={reps}, Opt={optimizer_type}, Noise={add_noise}\")\n",
        "    print(f\"Accuracy: {acc:.4f}\")\n",
        "    print(f\"Parameters: {num_params}, Depth: {depth}, Qubits: {qubits}\")\n",
        "\n",
        "    return vqc, acc, num_params, depth, qubits, pca"
      ]
    },
    {
      "cell_type": "code",
      "execution_count": null,
      "metadata": {
        "id": "UnwGWo7OKadQ"
      },
      "outputs": [],
      "source": [
        "configs = [\n",
        "     (4, 'ZZ', 'RealAmplitudes', 6, 'SPSA', False),\n",
        "    (4, 'Z', 'RealAmplitudes', 6, 'SPSA', False),\n",
        "    (4, 'ZZ', 'EfficientSU2', 6, 'COBYLA', False),\n",
        "    (6, 'ZZ', 'RealAmplitudes', 8, 'SPSA', False),\n",
        "    (4, 'Z', 'RealAmplitudes', 6, 'SPSA', False),\n",
        "        (4, 'Z', 'RealAmplitudes', 10, 'SPSA', False),\n",
        "\n",
        "\n",
        "]"
      ]
    },
    {
      "cell_type": "code",
      "source": [
        "from sklearn.metrics import precision_score, recall_score, f1_score, classification_report"
      ],
      "metadata": {
        "id": "s_QdWl5HXKfF"
      },
      "execution_count": null,
      "outputs": []
    },
    {
      "cell_type": "code",
      "execution_count": null,
      "metadata": {
        "colab": {
          "base_uri": "https://localhost:8080/"
        },
        "id": "Ej3C3ImmLOcr",
        "outputId": "7470e25d-f807-41a6-9c35-c439282a29aa"
      },
      "outputs": [
        {
          "output_type": "stream",
          "name": "stderr",
          "text": [
            "/tmp/ipython-input-741553969.py:7: DeprecationWarning: Sampler has been deprecated as of Aer 0.15, please use SamplerV2 instead.\n",
            "  model, acc, params, depth, qubits, pca = train_vqc(*config)\n"
          ]
        },
        {
          "output_type": "stream",
          "name": "stdout",
          "text": [
            "Config: Qubits=4, FM=Z, Ansatz=RealAmplitudes, Reps=6, Opt=SPSA, Noise=False\n",
            "Accuracy: 0.6776\n",
            "Parameters: 28, Depth: 24, Qubits: 4\n",
            "Precision: 0.5630, Recall: 0.6776, F1: 0.6095\n"
          ]
        },
        {
          "output_type": "stream",
          "name": "stderr",
          "text": [
            "/tmp/ipython-input-741553969.py:7: DeprecationWarning: Sampler has been deprecated as of Aer 0.15, please use SamplerV2 instead.\n",
            "  model, acc, params, depth, qubits, pca = train_vqc(*config)\n"
          ]
        },
        {
          "output_type": "stream",
          "name": "stdout",
          "text": [
            "Config: Qubits=4, FM=Z, Ansatz=RealAmplitudes, Reps=10, Opt=SPSA, Noise=False\n",
            "Accuracy: 0.7500\n",
            "Parameters: 44, Depth: 36, Qubits: 4\n",
            "Precision: 0.6859, Recall: 0.7434, F1: 0.6562\n",
            "Best Model Accuracy: 0.7500\n",
            "Best Metrics: Parameters=44, Depth=36, Qubits=4\n"
          ]
        }
      ],
      "source": [
        "best_model = None\n",
        "best_acc = 0\n",
        "best_metrics = None\n",
        "best_pca = None\n",
        "\n",
        "for config in configs:\n",
        "    model, acc, params, depth, qubits, pca = train_vqc(*config)\n",
        "    y_pred = model.predict(pca.transform(X_val))\n",
        "    prec = precision_score(y_val, y_pred, average='weighted', zero_division=0)\n",
        "    rec = recall_score(y_val, y_pred, average='weighted', zero_division=0)\n",
        "    f1 = f1_score(y_val, y_pred, average='weighted', zero_division=0)\n",
        "\n",
        "    print(f\"Precision: {prec:.4f}, Recall: {rec:.4f}, F1: {f1:.4f}\")\n",
        "\n",
        "\n",
        "    if acc > best_acc:\n",
        "        best_acc = acc\n",
        "        best_model = model\n",
        "        best_metrics = (params, depth, qubits)\n",
        "        best_pca = pca\n",
        "\n",
        "print(f\"Best Model Accuracy: {best_acc:.4f}\")\n",
        "print(f\"Best Metrics: Parameters={best_metrics[0]}, Depth={best_metrics[1]}, Qubits={best_metrics[2]}\")\n"
      ]
    }
  ],
  "metadata": {
    "colab": {
      "provenance": []
    },
    "kernelspec": {
      "display_name": "Python 3",
      "name": "python3"
    },
    "language_info": {
      "name": "python"
    }
  },
  "nbformat": 4,
  "nbformat_minor": 0
}
