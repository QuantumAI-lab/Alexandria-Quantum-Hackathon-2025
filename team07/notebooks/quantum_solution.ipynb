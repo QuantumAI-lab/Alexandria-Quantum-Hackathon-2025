{
  "cells": [
    {
      "cell_type": "markdown",
      "id": "AwsKsc4gTszy",
      "metadata": {
        "id": "AwsKsc4gTszy"
      },
      "source": [
        "**Install Required Dependencies**"
      ]
    },
    {
      "cell_type": "code",
      "execution_count": null,
      "id": "34beadbc-939b-40c6-8dbd-24a401bde238",
      "metadata": {
        "id": "34beadbc-939b-40c6-8dbd-24a401bde238"
      },
      "outputs": [],
      "source": [
        "pip install -r requirements_quantum.txt"
      ]
    },
    {
      "cell_type": "markdown",
      "id": "On1bcM7IT9n_",
      "metadata": {
        "id": "On1bcM7IT9n_"
      },
      "source": [
        "**Import Libraries**"
      ]
    },
    {
      "cell_type": "code",
      "execution_count": null,
      "id": "cf40c89a",
      "metadata": {},
      "outputs": [],
      "source": [
        "import pandas as pd\n",
        "import numpy as np\n",
        "import osmnx as ox\n",
        "import networkx as nx\n",
        "import folium\n",
        "import itertools\n",
        "from geopy.distance import geodesic\n",
        "import time\n",
        "from typing import List, Dict, Tuple\n",
        "import matplotlib.pyplot as plt\n",
        "import requests\n",
        "import json\n",
        "import math\n",
        "from itertools import permutations\n",
        "\n",
        "ox.settings.use_cache = True\n",
        "ox.settings.log_console = True"
      ]
    },
    {
      "cell_type": "markdown",
      "id": "c638f23d",
      "metadata": {},
      "source": [
        "**Define Distance Metric Function (OSRM)**"
      ]
    },
    {
      "cell_type": "code",
      "execution_count": null,
      "id": "f7137127-61b5-47c2-bd8d-93591e8a3836",
      "metadata": {
        "id": "f7137127-61b5-47c2-bd8d-93591e8a3836"
      },
      "outputs": [],
      "source": [
        "# function to get distance and duration between two coordinates using OSRM\n",
        "def metric(lat1: float, lon1: float, lat2: float, lon2: float) -> float:\n",
        "    coords_str = f\"{lon1},{lat1};{lon2},{lat2}\"\n",
        "    url = f\"http://router.project-osrm.org/route/v1/driving/{coords_str}?overview=full&geometries=geojson\"\n",
        "\n",
        "    try:\n",
        "        response = requests.get(url, timeout=30)\n",
        "        response.raise_for_status()\n",
        "        data = response.json()\n",
        "\n",
        "        if data['code'] == 'Ok' and data['routes']:\n",
        "            route = data['routes'][0]\n",
        "            distance_km = route['distance'] / 1000  # meters → km\n",
        "            duration_min = route['duration'] / 60   # seconds → minutes\n",
        "            geometry = route['geometry']['coordinates']\n",
        "            return distance_km\n",
        "        else:\n",
        "            print(\"OSRM error: No route found\")\n",
        "            return None\n",
        "    except requests.exceptions.RequestException as e:\n",
        "        print(f\"OSRM API error: {e}\")\n",
        "        return None\n"
      ]
    },
    {
      "cell_type": "markdown",
      "id": "X1-S55EMUF53",
      "metadata": {
        "id": "X1-S55EMUF53"
      },
      "source": [
        "**Load Data and Initialize Quantum Optimization Problem**"
      ]
    },
    {
      "cell_type": "code",
      "execution_count": null,
      "id": "972bb874-a4ae-4a3c-b200-2c89e407b376",
      "metadata": {
        "id": "972bb874-a4ae-4a3c-b200-2c89e407b376"
      },
      "outputs": [],
      "source": [
        "# importing and get the data\n",
        "from qiskit_optimization import QuadraticProgram\n",
        "from qiskit_optimization.algorithms import MinimumEigenOptimizer\n",
        "from qiskit_algorithms import QAOA\n",
        "from qiskit_algorithms.optimizers import COBYLA\n",
        "from qiskit.primitives import StatevectorSampler\n",
        "from qiskit_optimization.converters import QuadraticProgramToQubo\n",
        "from IPython.display import display, Math\n",
        "\n",
        "with open(\"OptimizationProblemData.json\", \"r\") as f:\n",
        "    data = json.load(f)\n",
        "\n",
        "hospital = data[\"locations\"][\"hospital\"][\"coordinates\"]\n",
        "patients = data[\"locations\"][\"patients\"]\n",
        "n_patients = len(patients)\n",
        "max_stops = 3\n",
        "\n",
        "locations = [hospital] + [p[\"coordinates\"] for p in patients]\n",
        "n_locations = len(locations)"
      ]
    },
    {
      "cell_type": "markdown",
      "id": "FvsXapXKUKL_",
      "metadata": {
        "id": "FvsXapXKUKL_"
      },
      "source": [
        "**Build Distance Matrix and Formulate Quadratic Program (Ambulance Routing)**"
      ]
    },
    {
      "cell_type": "code",
      "execution_count": null,
      "id": "f77676e8-d656-42ef-8257-acde327c86ab",
      "metadata": {
        "id": "f77676e8-d656-42ef-8257-acde327c86ab"
      },
      "outputs": [],
      "source": [
        "# init the data\n",
        "# distance matrix\n",
        "dist_matrix = np.zeros((n_locations, n_locations))\n",
        "for i in range(n_locations):\n",
        "    for j in range(n_locations):\n",
        "        if i != j:\n",
        "            coord_i = locations[i]\n",
        "            coord_j = locations[j]\n",
        "            dist_matrix[i, j] = metric(\n",
        "                coord_i[\"latitude\"], coord_i[\"longitude\"],\n",
        "                coord_j[\"latitude\"], coord_j[\"longitude\"]\n",
        "            )\n",
        "\n",
        "# create Quadratic Program\n",
        "# create the model\n",
        "qp = QuadraticProgram(name=\"Ambulance_Routing\")\n",
        "\n",
        "# Binary variables x_{i,t}: patient i is visited in trip t\n",
        "for i in range(n_patients):\n",
        "    for t in range(2):  # at most 2 trips\n",
        "        qp.binary_var(name=f\"x_{i}_{t}\")\n",
        "\n",
        "# each patient is visited exactly once\n",
        "for i in range(n_patients):\n",
        "    constraint_terms = {f\"x_{i}_{t}\": 1 for t in range(2)}\n",
        "    qp.linear_constraint(\n",
        "        linear=constraint_terms, sense=\"==\", rhs=1,\n",
        "        name=f\"patient_{i}_visited_once\"\n",
        "    )\n",
        "\n",
        "\n",
        "# each trip can visit at most max_stops patients\n",
        "for t in range(2):\n",
        "    constraint_terms = {f\"x_{i}_{t}\": 1 for i in range(n_patients)}\n",
        "    qp.linear_constraint(\n",
        "        linear=constraint_terms, sense=\"<=\", rhs=max_stops,\n",
        "        name=f\"trip_{t}_max_patients\"\n",
        "    )\n",
        "\n",
        "# objective, minimize travel distance\n",
        "linear_terms = {}\n",
        "quadratic_terms = {}\n",
        "\n",
        "for t in range(2):\n",
        "    for i in range(n_patients):\n",
        "        linear_terms[f\"x_{i}_{t}\"] = dist_matrix[0, i+1] * 0.5\n",
        "    for i in range(n_patients):\n",
        "        for j in range(i+1, n_patients):\n",
        "            quadratic_terms[(f\"x_{i}_{t}\", f\"x_{j}_{t}\")] = dist_matrix[i+1, j+1] * 0.3"
      ]
    },
    {
      "cell_type": "markdown",
      "id": "2c7SjbtjUpIg",
      "metadata": {
        "id": "2c7SjbtjUpIg"
      },
      "source": [
        "**Solve Quadratic Program with QAOA and Validate Solutions**"
      ]
    },
    {
      "cell_type": "code",
      "execution_count": null,
      "id": "e0332d45-b02e-41e3-9e33-07ee8475927c",
      "metadata": {
        "id": "e0332d45-b02e-41e3-9e33-07ee8475927c"
      },
      "outputs": [],
      "source": [
        "# try and solve\n",
        "\n",
        "qp.minimize(linear=linear_terms, quadratic=quadratic_terms)\n",
        "\n",
        "# to qubo\n",
        "converter = QuadraticProgramToQubo()\n",
        "qubo = converter.convert(qp)\n",
        "\n",
        "# qaoa\n",
        "optimizer = COBYLA(maxiter=50)\n",
        "qaoa = QAOA(sampler=StatevectorSampler(), optimizer=optimizer, reps=10)\n",
        "algorithm = MinimumEigenOptimizer(qaoa)\n",
        "\n",
        "# check if qaoa is return a valid solution after del the third constraine\n",
        "def is_valid_solution(trips: List[List[str]], max_stops: int, n_patients: int) -> bool:\n",
        "    visited = [p for trip in trips for p in trip]\n",
        "    if len(visited) != n_patients or len(set(visited)) != n_patients:\n",
        "        return False\n",
        "    for trip in trips:\n",
        "        if len(trip) > max_stops:\n",
        "            return False\n",
        "    return True\n",
        "\n",
        "# run qaoa until valid solution is found or max retries reached\n",
        "def run_qaoa_until_valid(max_retries=20):\n",
        "    for attempt in range(max_retries):\n",
        "        print(f\"\\n--- Attempt {attempt+1} ---\")\n",
        "        result = algorithm.solve(qubo)\n",
        "\n",
        "        trips = [[], []]\n",
        "        for i in range(n_patients):\n",
        "            for t in range(2):\n",
        "                var_name = f\"x_{i}_{t}\"\n",
        "                if var_name in result.variables_dict and result.variables_dict[var_name] > 0.5:\n",
        "                    trips[t].append(patients[i][\"id\"])\n",
        "\n",
        "        if is_valid_solution(trips, max_stops, n_patients):\n",
        "            print(\"Found valid solution!\")\n",
        "            return trips, result\n",
        "\n",
        "        print(\"Invalid solution, retrying...\")\n",
        "\n",
        "    raise ValueError(\"No valid solution found after max retries.\")\n",
        "\n",
        "\n",
        "# calculate total distance for a trip\n",
        "def calculate_trip_distance(patient_ids):\n",
        "    if not patient_ids:\n",
        "        return 0, []\n",
        "\n",
        "    patient_indices = []\n",
        "    for pid in patient_ids:\n",
        "        for i, p in enumerate(patients):\n",
        "            if p[\"id\"] == pid:\n",
        "                patient_indices.append(i+1)\n",
        "\n",
        "    min_distance = float('inf')\n",
        "    best_order = []\n",
        "\n",
        "    for order in permutations(patient_indices):\n",
        "        distance = dist_matrix[0, order[0]]\n",
        "        for j in range(len(order)-1):\n",
        "            distance += dist_matrix[order[j], order[j+1]]\n",
        "        distance += dist_matrix[order[-1], 0]\n",
        "\n",
        "        if distance < min_distance:\n",
        "            min_distance = distance\n",
        "            best_order = [patients[idx-1][\"id\"] for idx in order]\n",
        "\n",
        "    return min_distance, best_order\n"
      ]
    },
    {
      "cell_type": "markdown",
      "id": "vpend4t9UzJo",
      "metadata": {
        "id": "vpend4t9UzJo"
      },
      "source": [
        "**Run QAOA Solver and Display Optimized Ambulance Trips**"
      ]
    },
    {
      "cell_type": "code",
      "execution_count": null,
      "id": "ea38d0ff-5f48-441d-9d8e-b3a351dd319b",
      "metadata": {
        "id": "ea38d0ff-5f48-441d-9d8e-b3a351dd319b",
        "outputId": "050676cd-baf8-4a2f-dfa0-979c1562dbb6"
      },
      "outputs": [
        {
          "name": "stdout",
          "output_type": "stream",
          "text": [
            "\n",
            "--- Attempt 1 ---\n",
            "Invalid solution, retrying...\n",
            "\n",
            "--- Attempt 2 ---\n",
            "Found valid solution!\n",
            "Trip 1: Hospital -> R3_2 -> R2 -> Hospital (Distance: 26.79 km)\n",
            "Trip 2: Hospital -> DT -> GR -> IT -> Hospital (Distance: 30.74 km)\n",
            "\n",
            "Total distance: 57.52 km\n",
            "\n",
            "Patient coordinates:\n",
            "DT: (30.000418, 31.739608)\n",
            "GR: (30.011344, 31.747827)\n",
            "R2: (30.030388, 31.669231)\n",
            "R3_2: (30.030941, 31.688371)\n",
            "IT: (30.012856, 31.693812)\n",
            "Hospital: (29.995127, 31.684628)\n"
          ]
        }
      ],
      "source": [
        "\n",
        "# main\n",
        "valid_trips, result = run_qaoa_until_valid(max_retries=30)\n",
        "\n",
        "total_distance = 0\n",
        "for t, trip in enumerate(valid_trips):\n",
        "    if trip:\n",
        "        distance, order = calculate_trip_distance(trip)\n",
        "        total_distance += distance\n",
        "        print(f\"Trip {t+1}: Hospital -> {' -> '.join(order)} -> Hospital (Distance: {distance:.2f} km)\")\n",
        "    else:\n",
        "        print(f\"Trip {t+1}: Empty\")\n",
        "\n",
        "print(f\"\\nTotal distance: {total_distance:.2f} km\")\n",
        "\n",
        "print(\"\\nPatient coordinates:\")\n",
        "for i, patient in enumerate(patients):\n",
        "    print(f\"{patient['id']}: ({patient['coordinates']['latitude']:.6f}, {patient['coordinates']['longitude']:.6f})\")\n",
        "print(f\"Hospital: ({hospital['latitude']:.6f}, {hospital['longitude']:.6f})\")\n"
      ]
    }
  ],
  "metadata": {
    "colab": {
      "provenance": []
    },
    "kernelspec": {
      "display_name": "Python 3 [Default]",
      "language": "python",
      "name": "python3"
    },
    "language_info": {
      "codemirror_mode": {
        "name": "ipython",
        "version": 3
      },
      "file_extension": ".py",
      "mimetype": "text/x-python",
      "name": "python",
      "nbconvert_exporter": "python",
      "pygments_lexer": "ipython3",
      "version": "3.11.9"
    }
  },
  "nbformat": 4,
  "nbformat_minor": 5
}
